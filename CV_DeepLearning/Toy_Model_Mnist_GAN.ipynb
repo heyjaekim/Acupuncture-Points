{
 "cells": [
  {
   "cell_type": "code",
   "execution_count": 17,
   "metadata": {},
   "outputs": [],
   "source": [
    "import torch\n",
    "import torch.nn as nn\n",
    "\n",
    "\n",
    "D = nn.Sequential(\n",
    "    nn.Linear(784, 128), \n",
    "    nn.ReLU(),\n",
    "    nn.Linear(128,1),\n",
    "    nn.Sigmoid())\n",
    "\n",
    "G = nn.Sequential(\n",
    "    nn.Linear(100, 128), \n",
    "    nn.ReLU(),\n",
    "    nn.Linear(128, 784), \n",
    "    nn.Tanh())\n",
    "\n",
    "criterion = nn.BCELoss()\n",
    "\n",
    "d_optimizer = torch.optim.Adam(D.parameters(), lr = 0.01)\n",
    "g_optimizer = torch.optim.Adam(G.parameters(), lr = 0.01)\n",
    "\n",
    "while True:\n",
    "    # train D\n",
    "    loss = criterion(D(x), 1) + criterion(D(G(z)), 0)\n",
    "    loss.backward()\n",
    "    d_optimizer.step()\n",
    "    \n",
    "    #train G\n",
    "    loss = criterion(D(G(z)), 1)\n",
    "    loss.backward()\n",
    "    g_optimizer.step()\n",
    "    \n",
    "    "
   ]
  },
  {
   "cell_type": "markdown",
   "metadata": {},
   "source": [
    "---"
   ]
  },
  {
   "cell_type": "code",
   "execution_count": 21,
   "metadata": {},
   "outputs": [],
   "source": [
    "import torch \n",
    "import torchvision\n",
    "import torch.nn as nn\n",
    "import torch.optim as optim\n",
    "import torchvision.datasets as datasets\n",
    "import torchvision.transforms as transforms\n",
    "from torch.utils.data import DataLoader\n",
    "from torch.utils.tensorboard import SummaryWriter\n",
    "from model_utils import Discriminator, Generator"
   ]
  },
  {
   "cell_type": "code",
   "execution_count": 30,
   "metadata": {},
   "outputs": [
    {
     "name": "stdout",
     "output_type": "stream",
     "text": [
      "Starting Training...\n",
      "Epoch [0/10] Batch 0/1875  Loss D: 1.3853,loss G: 0.8789 D(x): 0.5863\n",
      "Epoch [0/10] Batch 100/1875  Loss D: 0.6732,loss G: 3.3026 D(x): 0.8899\n",
      "Epoch [0/10] Batch 200/1875  Loss D: 0.6876,loss G: 2.0556 D(x): 0.8303\n",
      "Epoch [0/10] Batch 300/1875  Loss D: 0.7470,loss G: 2.8312 D(x): 0.9096\n",
      "Epoch [0/10] Batch 400/1875  Loss D: 0.7595,loss G: 1.9524 D(x): 0.8173\n",
      "Epoch [0/10] Batch 500/1875  Loss D: 0.8125,loss G: 1.9747 D(x): 0.8305\n",
      "Epoch [0/10] Batch 600/1875  Loss D: 0.7404,loss G: 1.9611 D(x): 0.7893\n",
      "Epoch [0/10] Batch 700/1875  Loss D: 0.6852,loss G: 2.1882 D(x): 0.8599\n",
      "Epoch [0/10] Batch 800/1875  Loss D: 0.7503,loss G: 2.3047 D(x): 0.8263\n",
      "Epoch [0/10] Batch 900/1875  Loss D: 0.7645,loss G: 1.4695 D(x): 0.7558\n",
      "Epoch [0/10] Batch 1000/1875  Loss D: 0.8818,loss G: 2.5345 D(x): 0.8981\n",
      "Epoch [0/10] Batch 1100/1875  Loss D: 1.3606,loss G: 1.7132 D(x): 0.3937\n",
      "Epoch [0/10] Batch 1200/1875  Loss D: 0.9365,loss G: 2.3072 D(x): 0.9234\n",
      "Epoch [0/10] Batch 1300/1875  Loss D: 0.9737,loss G: 1.3635 D(x): 0.6159\n",
      "Epoch [0/10] Batch 1400/1875  Loss D: 0.8925,loss G: 1.5869 D(x): 0.7745\n",
      "Epoch [0/10] Batch 1500/1875  Loss D: 0.9202,loss G: 1.3083 D(x): 0.7769\n",
      "Epoch [0/10] Batch 1600/1875  Loss D: 0.8970,loss G: 1.4011 D(x): 0.6130\n",
      "Epoch [0/10] Batch 1700/1875  Loss D: 0.9692,loss G: 1.8593 D(x): 0.7173\n",
      "Epoch [0/10] Batch 1800/1875  Loss D: 0.7500,loss G: 1.7899 D(x): 0.8031\n",
      "Epoch [1/10] Batch 0/1875  Loss D: 0.8964,loss G: 1.4128 D(x): 0.6256\n",
      "Epoch [1/10] Batch 100/1875  Loss D: 0.7820,loss G: 1.8412 D(x): 0.7379\n",
      "Epoch [1/10] Batch 200/1875  Loss D: 0.8931,loss G: 2.3306 D(x): 0.8869\n",
      "Epoch [1/10] Batch 300/1875  Loss D: 0.7418,loss G: 1.9487 D(x): 0.7752\n",
      "Epoch [1/10] Batch 400/1875  Loss D: 0.8180,loss G: 1.5634 D(x): 0.7614\n",
      "Epoch [1/10] Batch 500/1875  Loss D: 0.8951,loss G: 1.2252 D(x): 0.6404\n",
      "Epoch [1/10] Batch 600/1875  Loss D: 0.9535,loss G: 1.9056 D(x): 0.7992\n",
      "Epoch [1/10] Batch 700/1875  Loss D: 0.7912,loss G: 1.7138 D(x): 0.7848\n",
      "Epoch [1/10] Batch 800/1875  Loss D: 0.8093,loss G: 1.2320 D(x): 0.7010\n",
      "Epoch [1/10] Batch 900/1875  Loss D: 0.8175,loss G: 1.5118 D(x): 0.6947\n",
      "Epoch [1/10] Batch 1000/1875  Loss D: 0.7873,loss G: 1.2364 D(x): 0.7094\n",
      "Epoch [1/10] Batch 1100/1875  Loss D: 0.8583,loss G: 1.6159 D(x): 0.8606\n",
      "Epoch [1/10] Batch 1200/1875  Loss D: 0.8358,loss G: 1.6637 D(x): 0.7997\n",
      "Epoch [1/10] Batch 1300/1875  Loss D: 0.7616,loss G: 2.0032 D(x): 0.7796\n",
      "Epoch [1/10] Batch 1400/1875  Loss D: 0.8826,loss G: 2.1742 D(x): 0.8985\n",
      "Epoch [1/10] Batch 1500/1875  Loss D: 0.8521,loss G: 1.2180 D(x): 0.6642\n",
      "Epoch [1/10] Batch 1600/1875  Loss D: 0.8067,loss G: 1.3917 D(x): 0.7413\n",
      "Epoch [1/10] Batch 1700/1875  Loss D: 0.7191,loss G: 1.9503 D(x): 0.8060\n",
      "Epoch [1/10] Batch 1800/1875  Loss D: 0.7958,loss G: 1.5921 D(x): 0.7202\n",
      "Epoch [2/10] Batch 0/1875  Loss D: 0.7587,loss G: 1.6481 D(x): 0.7545\n",
      "Epoch [2/10] Batch 100/1875  Loss D: 0.8794,loss G: 2.3221 D(x): 0.9279\n",
      "Epoch [2/10] Batch 200/1875  Loss D: 0.7904,loss G: 1.8626 D(x): 0.7156\n",
      "Epoch [2/10] Batch 300/1875  Loss D: 0.7885,loss G: 1.6603 D(x): 0.7209\n",
      "Epoch [2/10] Batch 400/1875  Loss D: 0.8811,loss G: 1.3007 D(x): 0.6893\n",
      "Epoch [2/10] Batch 500/1875  Loss D: 0.7463,loss G: 2.1940 D(x): 0.8210\n",
      "Epoch [2/10] Batch 600/1875  Loss D: 0.7064,loss G: 2.0554 D(x): 0.8359\n",
      "Epoch [2/10] Batch 700/1875  Loss D: 0.9103,loss G: 2.2980 D(x): 0.8034\n",
      "Epoch [2/10] Batch 800/1875  Loss D: 0.7634,loss G: 1.3436 D(x): 0.7547\n",
      "Epoch [2/10] Batch 900/1875  Loss D: 0.7125,loss G: 1.9166 D(x): 0.8510\n",
      "Epoch [2/10] Batch 1000/1875  Loss D: 0.7350,loss G: 2.1230 D(x): 0.7645\n",
      "Epoch [2/10] Batch 1100/1875  Loss D: 0.8862,loss G: 1.1658 D(x): 0.6510\n",
      "Epoch [2/10] Batch 1200/1875  Loss D: 0.7331,loss G: 1.9595 D(x): 0.7740\n",
      "Epoch [2/10] Batch 1300/1875  Loss D: 0.9430,loss G: 0.9302 D(x): 0.5790\n",
      "Epoch [2/10] Batch 1400/1875  Loss D: 0.8813,loss G: 1.2907 D(x): 0.6379\n",
      "Epoch [2/10] Batch 1500/1875  Loss D: 0.7601,loss G: 2.2343 D(x): 0.9047\n",
      "Epoch [2/10] Batch 1600/1875  Loss D: 0.7198,loss G: 1.7560 D(x): 0.7890\n",
      "Epoch [2/10] Batch 1700/1875  Loss D: 0.7139,loss G: 1.8579 D(x): 0.7949\n",
      "Epoch [2/10] Batch 1800/1875  Loss D: 0.8221,loss G: 1.7801 D(x): 0.7181\n",
      "Epoch [3/10] Batch 0/1875  Loss D: 1.1784,loss G: 1.8612 D(x): 0.7724\n",
      "Epoch [3/10] Batch 100/1875  Loss D: 1.0013,loss G: 3.0730 D(x): 0.9340\n",
      "Epoch [3/10] Batch 200/1875  Loss D: 0.6996,loss G: 1.8933 D(x): 0.8734\n",
      "Epoch [3/10] Batch 300/1875  Loss D: 0.7359,loss G: 2.1906 D(x): 0.8527\n",
      "Epoch [3/10] Batch 400/1875  Loss D: 0.6761,loss G: 2.3498 D(x): 0.8633\n",
      "Epoch [3/10] Batch 500/1875  Loss D: 0.9119,loss G: 1.8406 D(x): 0.8250\n",
      "Epoch [3/10] Batch 600/1875  Loss D: 0.7613,loss G: 2.4995 D(x): 0.9070\n",
      "Epoch [3/10] Batch 700/1875  Loss D: 0.7318,loss G: 2.4426 D(x): 0.8915\n",
      "Epoch [3/10] Batch 800/1875  Loss D: 0.7026,loss G: 2.1115 D(x): 0.8555\n",
      "Epoch [3/10] Batch 900/1875  Loss D: 0.7062,loss G: 2.1588 D(x): 0.9119\n",
      "Epoch [3/10] Batch 1000/1875  Loss D: 0.7545,loss G: 2.1165 D(x): 0.8565\n",
      "Epoch [3/10] Batch 1100/1875  Loss D: 0.7465,loss G: 2.4233 D(x): 0.8680\n",
      "Epoch [3/10] Batch 1200/1875  Loss D: 1.0802,loss G: 1.4613 D(x): 0.6953\n",
      "Epoch [3/10] Batch 1300/1875  Loss D: 0.9979,loss G: 0.7437 D(x): 0.5481\n",
      "Epoch [3/10] Batch 1400/1875  Loss D: 1.0745,loss G: 1.0320 D(x): 0.4986\n",
      "Epoch [3/10] Batch 1500/1875  Loss D: 0.7383,loss G: 2.1736 D(x): 0.8344\n",
      "Epoch [3/10] Batch 1600/1875  Loss D: 0.8152,loss G: 1.9989 D(x): 0.7112\n",
      "Epoch [3/10] Batch 1700/1875  Loss D: 0.8497,loss G: 2.5850 D(x): 0.8826\n",
      "Epoch [3/10] Batch 1800/1875  Loss D: 0.7742,loss G: 1.6128 D(x): 0.7318\n",
      "Epoch [4/10] Batch 0/1875  Loss D: 0.7195,loss G: 1.9413 D(x): 0.7830\n",
      "Epoch [4/10] Batch 100/1875  Loss D: 0.6801,loss G: 2.0765 D(x): 0.8994\n",
      "Epoch [4/10] Batch 200/1875  Loss D: 0.8517,loss G: 1.4664 D(x): 0.7249\n",
      "Epoch [4/10] Batch 300/1875  Loss D: 0.6973,loss G: 2.1099 D(x): 0.8181\n",
      "Epoch [4/10] Batch 400/1875  Loss D: 0.9810,loss G: 0.9422 D(x): 0.5709\n",
      "Epoch [4/10] Batch 500/1875  Loss D: 1.3909,loss G: 9.5277 D(x): 0.9268\n",
      "Epoch [4/10] Batch 600/1875  Loss D: 0.9883,loss G: 1.1189 D(x): 0.5579\n",
      "Epoch [4/10] Batch 700/1875  Loss D: 0.7567,loss G: 1.9864 D(x): 0.8085\n",
      "Epoch [4/10] Batch 800/1875  Loss D: 0.7512,loss G: 2.9591 D(x): 0.9172\n",
      "Epoch [4/10] Batch 900/1875  Loss D: 0.7133,loss G: 1.7519 D(x): 0.7989\n",
      "Epoch [4/10] Batch 1000/1875  Loss D: 0.6989,loss G: 2.1615 D(x): 0.8203\n",
      "Epoch [4/10] Batch 1100/1875  Loss D: 0.6807,loss G: 1.9886 D(x): 0.8615\n",
      "Epoch [4/10] Batch 1200/1875  Loss D: 0.8001,loss G: 1.6896 D(x): 0.7913\n",
      "Epoch [4/10] Batch 1300/1875  Loss D: 0.6923,loss G: 2.5769 D(x): 0.8379\n",
      "Epoch [4/10] Batch 1400/1875  Loss D: 0.8536,loss G: 2.9543 D(x): 0.9389\n",
      "Epoch [4/10] Batch 1500/1875  Loss D: 0.6952,loss G: 2.2908 D(x): 0.8888\n",
      "Epoch [4/10] Batch 1600/1875  Loss D: 0.7377,loss G: 2.2833 D(x): 0.7924\n",
      "Epoch [4/10] Batch 1700/1875  Loss D: 0.7007,loss G: 2.3923 D(x): 0.8437\n",
      "Epoch [4/10] Batch 1800/1875  Loss D: 0.8295,loss G: 1.4252 D(x): 0.6862\n",
      "Epoch [5/10] Batch 0/1875  Loss D: 0.8539,loss G: 0.9978 D(x): 0.6463\n",
      "Epoch [5/10] Batch 100/1875  Loss D: 0.6900,loss G: 2.4198 D(x): 0.9303\n",
      "Epoch [5/10] Batch 200/1875  Loss D: 0.7188,loss G: 1.8337 D(x): 0.8174\n",
      "Epoch [5/10] Batch 300/1875  Loss D: 0.7287,loss G: 2.7732 D(x): 0.8886\n",
      "Epoch [5/10] Batch 400/1875  Loss D: 0.7488,loss G: 3.0553 D(x): 0.9133\n",
      "Epoch [5/10] Batch 500/1875  Loss D: 1.1016,loss G: 1.0341 D(x): 0.5122\n",
      "Epoch [5/10] Batch 600/1875  Loss D: 0.6976,loss G: 2.1135 D(x): 0.8291\n",
      "Epoch [5/10] Batch 700/1875  Loss D: 0.6907,loss G: 2.1784 D(x): 0.8855\n",
      "Epoch [5/10] Batch 800/1875  Loss D: 0.7141,loss G: 2.5632 D(x): 0.9120\n",
      "Epoch [5/10] Batch 900/1875  Loss D: 0.7526,loss G: 2.5066 D(x): 0.9490\n",
      "Epoch [5/10] Batch 1000/1875  Loss D: 0.7161,loss G: 2.1438 D(x): 0.8052\n",
      "Epoch [5/10] Batch 1100/1875  Loss D: 0.6729,loss G: 2.0486 D(x): 0.8748\n",
      "Epoch [5/10] Batch 1200/1875  Loss D: 0.6815,loss G: 2.0026 D(x): 0.8494\n",
      "Epoch [5/10] Batch 1300/1875  Loss D: 1.3628,loss G: 0.6104 D(x): 0.4091\n",
      "Epoch [5/10] Batch 1400/1875  Loss D: 0.7949,loss G: 2.1679 D(x): 0.9521\n",
      "Epoch [5/10] Batch 1500/1875  Loss D: 0.6802,loss G: 2.3806 D(x): 0.8978\n",
      "Epoch [5/10] Batch 1600/1875  Loss D: 0.6719,loss G: 2.2327 D(x): 0.8732\n",
      "Epoch [5/10] Batch 1700/1875  Loss D: 0.7037,loss G: 2.3073 D(x): 0.8191\n",
      "Epoch [5/10] Batch 1800/1875  Loss D: 0.7622,loss G: 2.5603 D(x): 0.9298\n",
      "Epoch [6/10] Batch 0/1875  Loss D: 0.8893,loss G: 3.3558 D(x): 0.9561\n",
      "Epoch [6/10] Batch 100/1875  Loss D: 0.9078,loss G: 2.4221 D(x): 0.6356\n",
      "Epoch [6/10] Batch 200/1875  Loss D: 0.7244,loss G: 1.5647 D(x): 0.7753\n",
      "Epoch [6/10] Batch 300/1875  Loss D: 0.6666,loss G: 2.3273 D(x): 0.8782\n",
      "Epoch [6/10] Batch 400/1875  Loss D: 0.8019,loss G: 1.8234 D(x): 0.7325\n",
      "Epoch [6/10] Batch 500/1875  Loss D: 0.6660,loss G: 2.2447 D(x): 0.8905\n",
      "Epoch [6/10] Batch 600/1875  Loss D: 0.6943,loss G: 1.9540 D(x): 0.8338\n",
      "Epoch [6/10] Batch 700/1875  Loss D: 0.6947,loss G: 2.9643 D(x): 0.9304\n",
      "Epoch [6/10] Batch 800/1875  Loss D: 1.0188,loss G: 3.3574 D(x): 0.5432\n",
      "Epoch [6/10] Batch 900/1875  Loss D: 0.7732,loss G: 2.6655 D(x): 0.9074\n",
      "Epoch [6/10] Batch 1000/1875  Loss D: 0.7198,loss G: 1.7693 D(x): 0.7893\n",
      "Epoch [6/10] Batch 1100/1875  Loss D: 0.6803,loss G: 1.8357 D(x): 0.8618\n",
      "Epoch [6/10] Batch 1200/1875  Loss D: 0.6823,loss G: 2.4709 D(x): 0.8587\n",
      "Epoch [6/10] Batch 1300/1875  Loss D: 0.6845,loss G: 2.7896 D(x): 0.9019\n",
      "Epoch [6/10] Batch 1400/1875  Loss D: 0.6705,loss G: 2.1816 D(x): 0.8880\n",
      "Epoch [6/10] Batch 1500/1875  Loss D: 0.7395,loss G: 2.0637 D(x): 0.7737\n",
      "Epoch [6/10] Batch 1600/1875  Loss D: 0.8086,loss G: 1.6471 D(x): 0.7148\n",
      "Epoch [6/10] Batch 1700/1875  Loss D: 0.6776,loss G: 2.4091 D(x): 0.9261\n",
      "Epoch [6/10] Batch 1800/1875  Loss D: 0.6929,loss G: 2.5848 D(x): 0.8828\n",
      "Epoch [7/10] Batch 0/1875  Loss D: 0.7367,loss G: 1.4086 D(x): 0.7643\n",
      "Epoch [7/10] Batch 100/1875  Loss D: 0.8156,loss G: 3.3417 D(x): 0.9348\n",
      "Epoch [7/10] Batch 200/1875  Loss D: 0.6720,loss G: 2.1837 D(x): 0.8593\n",
      "Epoch [7/10] Batch 300/1875  Loss D: 0.6708,loss G: 2.4941 D(x): 0.8830\n",
      "Epoch [7/10] Batch 400/1875  Loss D: 0.7024,loss G: 1.8053 D(x): 0.8065\n",
      "Epoch [7/10] Batch 500/1875  Loss D: 0.6667,loss G: 2.4311 D(x): 0.8805\n",
      "Epoch [7/10] Batch 600/1875  Loss D: 0.6737,loss G: 2.4201 D(x): 0.9132\n",
      "Epoch [7/10] Batch 700/1875  Loss D: 0.7887,loss G: 2.4039 D(x): 0.7085\n",
      "Epoch [7/10] Batch 800/1875  Loss D: 0.6623,loss G: 2.5549 D(x): 0.8860\n",
      "Epoch [7/10] Batch 900/1875  Loss D: 0.6641,loss G: 1.9968 D(x): 0.9095\n",
      "Epoch [7/10] Batch 1000/1875  Loss D: 0.8843,loss G: 1.4716 D(x): 0.6338\n",
      "Epoch [7/10] Batch 1100/1875  Loss D: 0.6863,loss G: 2.2446 D(x): 0.8704\n",
      "Epoch [7/10] Batch 1200/1875  Loss D: 0.6930,loss G: 2.0954 D(x): 0.8213\n",
      "Epoch [7/10] Batch 1300/1875  Loss D: 0.6765,loss G: 2.3408 D(x): 0.8598\n",
      "Epoch [7/10] Batch 1400/1875  Loss D: 0.7071,loss G: 2.0914 D(x): 0.8065\n",
      "Epoch [7/10] Batch 1500/1875  Loss D: 0.6887,loss G: 1.7855 D(x): 0.8222\n",
      "Epoch [7/10] Batch 1600/1875  Loss D: 0.6982,loss G: 1.8670 D(x): 0.8068\n",
      "Epoch [7/10] Batch 1700/1875  Loss D: 0.6652,loss G: 2.3910 D(x): 0.9052\n",
      "Epoch [7/10] Batch 1800/1875  Loss D: 0.7735,loss G: 1.3806 D(x): 0.7556\n",
      "Epoch [8/10] Batch 0/1875  Loss D: 0.7295,loss G: 2.3229 D(x): 0.8652\n",
      "Epoch [8/10] Batch 100/1875  Loss D: 0.6852,loss G: 2.3226 D(x): 0.9262\n",
      "Epoch [8/10] Batch 200/1875  Loss D: 0.6668,loss G: 2.5638 D(x): 0.9287\n",
      "Epoch [8/10] Batch 300/1875  Loss D: 0.6746,loss G: 2.3021 D(x): 0.8568\n",
      "Epoch [8/10] Batch 400/1875  Loss D: 0.6625,loss G: 2.4124 D(x): 0.8967\n",
      "Epoch [8/10] Batch 500/1875  Loss D: 0.6711,loss G: 2.1638 D(x): 0.8749\n",
      "Epoch [8/10] Batch 600/1875  Loss D: 0.6874,loss G: 2.4279 D(x): 0.9415\n",
      "Epoch [8/10] Batch 700/1875  Loss D: 0.8103,loss G: 1.3328 D(x): 0.7012\n",
      "Epoch [8/10] Batch 800/1875  Loss D: 0.6682,loss G: 2.4260 D(x): 0.8975\n",
      "Epoch [8/10] Batch 900/1875  Loss D: 0.6704,loss G: 2.3795 D(x): 0.8753\n",
      "Epoch [8/10] Batch 1000/1875  Loss D: 0.6718,loss G: 1.9637 D(x): 0.8535\n",
      "Epoch [8/10] Batch 1100/1875  Loss D: 0.7423,loss G: 3.2374 D(x): 0.9474\n",
      "Epoch [8/10] Batch 1200/1875  Loss D: 0.7754,loss G: 2.1389 D(x): 0.7562\n",
      "Epoch [8/10] Batch 1300/1875  Loss D: 0.6800,loss G: 2.4889 D(x): 0.9439\n",
      "Epoch [8/10] Batch 1400/1875  Loss D: 0.6909,loss G: 2.2708 D(x): 0.8188\n",
      "Epoch [8/10] Batch 1500/1875  Loss D: 0.6671,loss G: 2.6512 D(x): 0.9305\n",
      "Epoch [8/10] Batch 1600/1875  Loss D: 1.1490,loss G: 2.7548 D(x): 0.8857\n",
      "Epoch [8/10] Batch 1700/1875  Loss D: 0.6829,loss G: 2.2678 D(x): 0.9134\n",
      "Epoch [8/10] Batch 1800/1875  Loss D: 0.6681,loss G: 2.3629 D(x): 0.9159\n",
      "Epoch [9/10] Batch 0/1875  Loss D: 0.6685,loss G: 2.4716 D(x): 0.9207\n",
      "Epoch [9/10] Batch 100/1875  Loss D: 0.6850,loss G: 2.1047 D(x): 0.8757\n",
      "Epoch [9/10] Batch 200/1875  Loss D: 0.6741,loss G: 2.4969 D(x): 0.9179\n",
      "Epoch [9/10] Batch 300/1875  Loss D: 0.6641,loss G: 2.3026 D(x): 0.8726\n",
      "Epoch [9/10] Batch 400/1875  Loss D: 0.6716,loss G: 2.3861 D(x): 0.8609\n",
      "Epoch [9/10] Batch 500/1875  Loss D: 0.8037,loss G: 2.0476 D(x): 0.8519\n",
      "Epoch [9/10] Batch 600/1875  Loss D: 0.6700,loss G: 2.4084 D(x): 0.8769\n",
      "Epoch [9/10] Batch 700/1875  Loss D: 0.7060,loss G: 2.7874 D(x): 0.9260\n",
      "Epoch [9/10] Batch 800/1875  Loss D: 0.6714,loss G: 2.6825 D(x): 0.9367\n",
      "Epoch [9/10] Batch 900/1875  Loss D: 0.6731,loss G: 2.6864 D(x): 0.9416\n",
      "Epoch [9/10] Batch 1000/1875  Loss D: 0.6790,loss G: 2.3459 D(x): 0.8621\n",
      "Epoch [9/10] Batch 1100/1875  Loss D: 0.7562,loss G: 2.8679 D(x): 0.9549\n",
      "Epoch [9/10] Batch 1200/1875  Loss D: 0.6603,loss G: 2.3806 D(x): 0.8783\n",
      "Epoch [9/10] Batch 1300/1875  Loss D: 0.6675,loss G: 2.0301 D(x): 0.9286\n",
      "Epoch [9/10] Batch 1400/1875  Loss D: 0.7055,loss G: 2.6325 D(x): 0.9236\n",
      "Epoch [9/10] Batch 1500/1875  Loss D: 0.6657,loss G: 2.6307 D(x): 0.8761\n",
      "Epoch [9/10] Batch 1600/1875  Loss D: 0.6914,loss G: 2.4221 D(x): 0.8488\n",
      "Epoch [9/10] Batch 1700/1875  Loss D: 0.6708,loss G: 2.0177 D(x): 0.8564\n",
      "Epoch [9/10] Batch 1800/1875  Loss D: 0.6728,loss G: 2.1020 D(x): 0.8526\n"
     ]
    }
   ],
   "source": [
    "# hyperparameters\n",
    "lr = 0.0002\n",
    "batch_size = 32\n",
    "image_size = 64 # 28x28 --> 64 x 64\n",
    "channels_img = 1\n",
    "channels_noise = 100\n",
    "num_epochs = 10\n",
    "\n",
    "# set this to 64 \n",
    "features_d = 16\n",
    "features_g = 16 \n",
    "\n",
    "my_transforms = transforms.Compose([\n",
    "    transforms.Resize(image_size),\n",
    "    transforms.ToTensor(),\n",
    "    transforms.Normalize((0.5,), (0.5,)),\n",
    "    ])\n",
    "\n",
    "dataset = datasets.MNIST(root = 'dataset/', train = True, transform = my_transforms, download = True)\n",
    "dataloader = DataLoader(dataset, batch_size = batch_size, shuffle = True)\n",
    "\n",
    "device = torch.device(\"cuda\" if torch.cuda.is_available() else \"cpu\")\n",
    "\n",
    "# Create discrimator and generator\n",
    "netD = Discriminator(channels_img, features_d).to(device)\n",
    "netG = Generator(channels_noise, channels_img, features_g).to(device)\n",
    "\n",
    "# Setup optimizer for G and D\n",
    "optimizerD = optim.Adam(netD.parameters(), lr = lr, betas = (0.5, 0.999))\n",
    "optimizerG = optim.Adam(netG.parameters(), lr = lr, betas = (0.5, 0.999))\n",
    "\n",
    "netG.train()\n",
    "netD.train()\n",
    "\n",
    "criterion = nn.BCELoss()\n",
    "\n",
    "real_label = 1\n",
    "fake_label = 0\n",
    "\n",
    "fixed_noise = torch.randn(64, channels_noise, 1, 1).to(device)\n",
    "writer_real = SummaryWriter(f'runs/GAN_MNIST/test_real')\n",
    "writer_fake = SummaryWriter(f'runs/GAN_MNIST/test_fake')\n",
    "\n",
    "print(\"Starting Training...\")\n",
    "\n",
    "for epoch in range(num_epochs):\n",
    "    for batch_idx, (data, targets) in enumerate(dataloader):\n",
    "        data = data.to(device)\n",
    "        batch_size = data.shape[0]\n",
    "        \n",
    "        # Train Discriminator: max log(D(x)) + log(1 - D(G(z)))\n",
    "        netD.zero_grad()\n",
    "        label = (torch.ones(batch_size)*0.9).to(device) # send in real images\n",
    "        output = netD(data).reshape(-1) # make it into one long vector\n",
    "        lossD_real = criterion(output, label)\n",
    "        D_x = output.mean().item() # compute mean confidence of discriminator; for printing values\n",
    "        \n",
    "        noise = torch.randn(batch_size, channels_noise, 1, 1).to(device)\n",
    "        fake = netG(noise) \n",
    "        label = (torch.ones(batch_size)*0.1).to(device) #  \n",
    "        \n",
    "        output = netD(fake.detach()).reshape(-1) # want to backpropagate only on D\n",
    "        lossD_fake = criterion(output, label)\n",
    "        \n",
    "        lossD = lossD_real + lossD_fake\n",
    "        lossD.backward()\n",
    "        optimizerD.step()\n",
    "        \n",
    "        # Train Generator  : max log(D(G(z))) ; want D to see G(z) as 1\n",
    "        netG.zero_grad()\n",
    "        label = torch.ones(batch_size).to(device)\n",
    "        output = netD(fake).reshape(-1) # use the same fakes \n",
    "        lossG = criterion(output, label)\n",
    "        lossG.backward()\n",
    "        optimizerG.step()\n",
    "        \n",
    "        if batch_idx % 100 == 0:\n",
    "            print(f'Epoch [{epoch}/{num_epochs}] Batch {batch_idx}/{len(dataloader)}  Loss D: {lossD:.4f},loss G: {lossG:.4f} D(x): {D_x:.4f}')\n",
    "            \n",
    "            with torch.no_grad():\n",
    "                fake = netG(fixed_noise)\n",
    "                \n",
    "                img_grid_real = torchvision.utils.make_grid(data[:32], normalize = True)\n",
    "                img_grid_fake = torchvision.utils.make_grid(fake[:32], normalize = True)\n",
    "                writer_real.add_image('Mnist Real Images', img_grid_real)\n",
    "                writer_fake.add_image('Mnist Fake Images', img_grid_fake)\n",
    "        \n",
    "        "
   ]
  },
  {
   "cell_type": "code",
   "execution_count": 156,
   "metadata": {},
   "outputs": [
    {
     "data": {
      "text/plain": [
       "array([[0.01186858, 0.01504469, 0.00237228, ..., 0.00383481, 0.01782244,\n",
       "        0.01570198],\n",
       "       [0.00630767, 0.0120104 , 0.01232817, ..., 0.00480738, 0.00916964,\n",
       "        0.0150037 ],\n",
       "       [0.00280238, 0.03845676, 0.01495521, ..., 0.00159473, 0.01237783,\n",
       "        0.01397348],\n",
       "       ...,\n",
       "       [0.0212563 , 0.01755095, 0.0146403 , ..., 0.00640761, 0.01938153,\n",
       "        0.01552642],\n",
       "       [0.00546663, 0.01324917, 0.01758071, ..., 0.00684669, 0.00805222,\n",
       "        0.01543531],\n",
       "       [0.00447697, 0.01140816, 0.01525133, ..., 0.00523173, 0.00451857,\n",
       "        0.00936048]], dtype=float32)"
      ]
     },
     "execution_count": 156,
     "metadata": {},
     "output_type": "execute_result"
    }
   ],
   "source": [
    "a "
   ]
  },
  {
   "cell_type": "code",
   "execution_count": 663,
   "metadata": {},
   "outputs": [],
   "source": [
    "a = img_fake[0].cpu().detach().numpy()"
   ]
  },
  {
   "cell_type": "code",
   "execution_count": 667,
   "metadata": {},
   "outputs": [
    {
     "data": {
      "text/plain": [
       "<matplotlib.colorbar.Colorbar at 0x1ea0ddb1550>"
      ]
     },
     "execution_count": 667,
     "metadata": {},
     "output_type": "execute_result"
    },
    {
     "data": {
      "image/png": "[encoded data removed]",
      "text/plain": [
       "<Figure size 432x288 with 2 Axes>"
      ]
     },
     "metadata": {
      "needs_background": "light"
     },
     "output_type": "display_data"
    }
   ],
   "source": [
    "plt.imshow(a)\n",
    "plt.colorbar()"
   ]
  },
  {
   "cell_type": "code",
   "execution_count": 155,
   "metadata": {},
   "outputs": [
    {
     "data": {
      "text/plain": [
       "<matplotlib.image.AxesImage at 0x1e9bb98b550>"
      ]
     },
     "execution_count": 155,
     "metadata": {},
     "output_type": "execute_result"
    },
    {
     "data": {
      "image/png": "[encoded data removed]",
      "text/plain": [
       "<Figure size 432x288 with 1 Axes>"
      ]
     },
     "metadata": {
      "needs_background": "light"
     },
     "output_type": "display_data"
    }
   ],
   "source": [
    "noise = torch.randn(batch_size, channels_noise, 1, 1).to(device)\n",
    "fake1 = netG(noise) \n",
    "img_fake = torchvision.utils.make_grid(fake1[:1], normalize = True)\n",
    "a = img_fake[0].cpu().detach().numpy()\n",
    "plt.imshow(a)"
   ]
  },
  {
   "cell_type": "code",
   "execution_count": 158,
   "metadata": {
    "scrolled": true
   },
   "outputs": [
    {
     "data": {
      "text/plain": [
       "<matplotlib.image.AxesImage at 0x1e9bbe10a90>"
      ]
     },
     "execution_count": 158,
     "metadata": {},
     "output_type": "execute_result"
    },
    {
     "data": {
      "image/png": "[encoded data removed]",
      "text/plain": [
       "<Figure size 432x288 with 1 Axes>"
      ]
     },
     "metadata": {
      "needs_background": "light"
     },
     "output_type": "display_data"
    }
   ],
   "source": [
    "plt.imshow(a, cmap='gray')"
   ]
  },
  {
   "cell_type": "markdown",
   "metadata": {},
   "source": [
    "#### 노이즈 추가해도 잘 된다!"
   ]
  },
  {
   "cell_type": "markdown",
   "metadata": {},
   "source": [
    "---"
   ]
  },
  {
   "cell_type": "markdown",
   "metadata": {},
   "source": [
    "#### 네트워크 만들기 위한 모듈"
   ]
  },
  {
   "cell_type": "code",
   "execution_count": null,
   "metadata": {},
   "outputs": [],
   "source": [
    "nn.Conv2d\n",
    "[[], 'LR', 'R', 'BN']"
   ]
  },
  {
   "cell_type": "code",
   "execution_count": 711,
   "metadata": {},
   "outputs": [],
   "source": [
    "# f, k, s, p\n",
    "# output feature_map, kernel, stride, padding\n",
    "def make_layers_vanilla(cfg, kw = 'D', channel_noise = 100):\n",
    "    layers = []\n",
    "    in_channels = 3\n",
    "    if kw == 'D': \n",
    "        for items in cfg:\n",
    "            if 'LR' in items:\n",
    "                layers += [nn.LeakyReLU(0.2)]\n",
    "            elif 'BN' in items: \n",
    "                layers += [nn.BatchNorm2d(in_channels)]\n",
    "            else:           \n",
    "                conv2d = nn.Conv2d(in_channels, out_channels = items[0], kernel_size=items[1], \n",
    "                                  stride = items[2], padding = items[3])\n",
    "                layers += [conv2d]\n",
    "                in_channels = items[0]      \n",
    "        layers += [nn.Sigmoid()]\n",
    "    if kw == 'G':\n",
    "        in_channels = channel_noise\n",
    "        for items in cfg:\n",
    "            if 'R' in items:\n",
    "                layers += [nn.ReLU()]\n",
    "            elif 'BN' in items: \n",
    "                layers += [nn.BatchNorm2d(in_channels)]\n",
    "            else:           \n",
    "                deconv2d = nn.ConvTranspose2d(in_channels, out_channels = items[0], kernel_size=items[1], \n",
    "                                  stride = items[2], padding = items[3])\n",
    "                layers += [deconv2d]\n",
    "                in_channels = items[0]\n",
    "        layers += [nn.Tanh() ]\n",
    "    return nn.Sequential(*layers)        "
   ]
  },
  {
   "cell_type": "code",
   "execution_count": 705,
   "metadata": {},
   "outputs": [],
   "source": [
    "# f, k, s, p\n",
    "# output feature_map, kernel, stride, padding\n",
    "# features = \n",
    "cfg_256 =  {\n",
    "    'D_1' : [ [64, 4, 2, 1],'LR', [64, 4, 2, 1], 'BN', 'LR', [128, 4, 2, 1], 'BN', 'LR',\n",
    "             [128, 4, 2, 1],'BN', 'LR',[256, 4, 2, 1],'BN', 'LR', [512, 4, 2, 1], \n",
    "             'BN', 'LR',[1, 4, 2, 0] ] ,\n",
    "    'G_1' :[ [1024, 4, 1, 0], 'BN', 'R', [512, 4, 2, 1], 'BN', 'R',  [256, 4, 2, 1], 'BN', 'R',  \n",
    "            [256, 4, 2, 1], 'BN', 'R', [128, 4, 2, 1], 'BN', 'R', [64, 4, 2, 1], \n",
    "            'BN', 'R', [3, 4, 2, 1] ]\n",
    "} "
   ]
  },
  {
   "cell_type": "code",
   "execution_count": 714,
   "metadata": {},
   "outputs": [
    {
     "data": {
      "text/plain": [
       "Sequential(\n",
       "  (0): ConvTranspose2d(100, 1024, kernel_size=(4, 4), stride=(1, 1))\n",
       "  (1): BatchNorm2d(1024, eps=1e-05, momentum=0.1, affine=True, track_running_stats=True)\n",
       "  (2): ReLU()\n",
       "  (3): ConvTranspose2d(1024, 512, kernel_size=(4, 4), stride=(2, 2), padding=(1, 1))\n",
       "  (4): BatchNorm2d(512, eps=1e-05, momentum=0.1, affine=True, track_running_stats=True)\n",
       "  (5): ReLU()\n",
       "  (6): ConvTranspose2d(512, 256, kernel_size=(4, 4), stride=(2, 2), padding=(1, 1))\n",
       "  (7): BatchNorm2d(256, eps=1e-05, momentum=0.1, affine=True, track_running_stats=True)\n",
       "  (8): ReLU()\n",
       "  (9): ConvTranspose2d(256, 256, kernel_size=(4, 4), stride=(2, 2), padding=(1, 1))\n",
       "  (10): BatchNorm2d(256, eps=1e-05, momentum=0.1, affine=True, track_running_stats=True)\n",
       "  (11): ReLU()\n",
       "  (12): ConvTranspose2d(256, 128, kernel_size=(4, 4), stride=(2, 2), padding=(1, 1))\n",
       "  (13): BatchNorm2d(128, eps=1e-05, momentum=0.1, affine=True, track_running_stats=True)\n",
       "  (14): ReLU()\n",
       "  (15): ConvTranspose2d(128, 64, kernel_size=(4, 4), stride=(2, 2), padding=(1, 1))\n",
       "  (16): BatchNorm2d(64, eps=1e-05, momentum=0.1, affine=True, track_running_stats=True)\n",
       "  (17): ReLU()\n",
       "  (18): ConvTranspose2d(64, 3, kernel_size=(4, 4), stride=(2, 2), padding=(1, 1))\n",
       "  (19): Tanh()\n",
       ")"
      ]
     },
     "execution_count": 714,
     "metadata": {},
     "output_type": "execute_result"
    }
   ],
   "source": [
    "make_layers_vanilla(cfg_256['G_1'], 'G')"
   ]
  },
  {
   "cell_type": "code",
   "execution_count": 727,
   "metadata": {},
   "outputs": [
    {
     "data": {
      "text/plain": [
       "Sequential(\n",
       "  (0): Conv2d(3, 64, kernel_size=(4, 4), stride=(2, 2), padding=(1, 1))\n",
       "  (1): LeakyReLU(negative_slope=0.2)\n",
       "  (2): Conv2d(64, 64, kernel_size=(4, 4), stride=(2, 2), padding=(1, 1))\n",
       "  (3): BatchNorm2d(64, eps=1e-05, momentum=0.1, affine=True, track_running_stats=True)\n",
       "  (4): LeakyReLU(negative_slope=0.2)\n",
       "  (5): Conv2d(64, 128, kernel_size=(4, 4), stride=(2, 2), padding=(1, 1))\n",
       "  (6): BatchNorm2d(128, eps=1e-05, momentum=0.1, affine=True, track_running_stats=True)\n",
       "  (7): LeakyReLU(negative_slope=0.2)\n",
       "  (8): Conv2d(128, 128, kernel_size=(4, 4), stride=(2, 2), padding=(1, 1))\n",
       "  (9): BatchNorm2d(128, eps=1e-05, momentum=0.1, affine=True, track_running_stats=True)\n",
       "  (10): LeakyReLU(negative_slope=0.2)\n",
       "  (11): Conv2d(128, 256, kernel_size=(4, 4), stride=(2, 2), padding=(1, 1))\n",
       "  (12): BatchNorm2d(256, eps=1e-05, momentum=0.1, affine=True, track_running_stats=True)\n",
       "  (13): LeakyReLU(negative_slope=0.2)\n",
       "  (14): Conv2d(256, 512, kernel_size=(4, 4), stride=(2, 2), padding=(1, 1))\n",
       "  (15): BatchNorm2d(512, eps=1e-05, momentum=0.1, affine=True, track_running_stats=True)\n",
       "  (16): LeakyReLU(negative_slope=0.2)\n",
       "  (17): Conv2d(512, 1, kernel_size=(4, 4), stride=(2, 2))\n",
       "  (18): Sigmoid()\n",
       ")"
      ]
     },
     "execution_count": 727,
     "metadata": {},
     "output_type": "execute_result"
    }
   ],
   "source": [
    "make_layers_vanilla(cfg_256['D_1'], 'D')"
   ]
  },
  {
   "cell_type": "code",
   "execution_count": 746,
   "metadata": {},
   "outputs": [],
   "source": [
    "class D_vanilla(nn.Module):\n",
    "    def __init__(self, features):\n",
    "        super(D_vanilla, self).__init__()\n",
    "        self.features = features\n",
    "        self.net = nn.Sequential()\n",
    "    \n",
    "    def forward(self, x):\n",
    "        x = self.features(x)\n",
    "        return x\n",
    "\n",
    "class G_vanilla(nn.Module):\n",
    "    def __init__(self, features):\n",
    "        super(G_vanilla, self).__init__()\n",
    "        self.features = features\n",
    "        self.net = nn.Sequential()\n",
    "    \n",
    "    def forward(self, x):\n",
    "        x = self.features(x)\n",
    "        return x\n",
    "    "
   ]
  },
  {
   "cell_type": "code",
   "execution_count": 747,
   "metadata": {},
   "outputs": [],
   "source": [
    "def buildNet_vaniila(cfg, kw):\n",
    "    if kw == 'D':\n",
    "        return D_vanilla(make_layers_vanilla(cfg, kw))\n",
    "    if kw == 'G':\n",
    "        return G_vanilla(make_layers_vanilla(cfg, kw))"
   ]
  },
  {
   "cell_type": "code",
   "execution_count": 748,
   "metadata": {},
   "outputs": [],
   "source": [
    "device = torch.device(\"cuda:0\" if torch.cuda.is_available() else \"cpu\")\n",
    "baselineD = buildNet_vaniila(cfg_256['D_1'], kw = 'D').to(device)\n",
    "baselineG = buildNet_vaniila(cfg_256['G_1'], kw = 'G').to(device)"
   ]
  },
  {
   "cell_type": "code",
   "execution_count": 750,
   "metadata": {
    "collapsed": true
   },
   "outputs": [
    {
     "name": "stdout",
     "output_type": "stream",
     "text": [
      "----------------------------------------------------------------\n",
      "        Layer (type)               Output Shape         Param #\n",
      "================================================================\n",
      "            Conv2d-1         [-1, 64, 128, 128]           3,136\n",
      "         LeakyReLU-2         [-1, 64, 128, 128]               0\n",
      "            Conv2d-3           [-1, 64, 64, 64]          65,600\n",
      "       BatchNorm2d-4           [-1, 64, 64, 64]             128\n",
      "         LeakyReLU-5           [-1, 64, 64, 64]               0\n",
      "            Conv2d-6          [-1, 128, 32, 32]         131,200\n",
      "       BatchNorm2d-7          [-1, 128, 32, 32]             256\n",
      "         LeakyReLU-8          [-1, 128, 32, 32]               0\n",
      "            Conv2d-9          [-1, 128, 16, 16]         262,272\n",
      "      BatchNorm2d-10          [-1, 128, 16, 16]             256\n",
      "        LeakyReLU-11          [-1, 128, 16, 16]               0\n",
      "           Conv2d-12            [-1, 256, 8, 8]         524,544\n",
      "      BatchNorm2d-13            [-1, 256, 8, 8]             512\n",
      "        LeakyReLU-14            [-1, 256, 8, 8]               0\n",
      "           Conv2d-15            [-1, 512, 4, 4]       2,097,664\n",
      "      BatchNorm2d-16            [-1, 512, 4, 4]           1,024\n",
      "        LeakyReLU-17            [-1, 512, 4, 4]               0\n",
      "           Conv2d-18              [-1, 1, 1, 1]           8,193\n",
      "          Sigmoid-19              [-1, 1, 1, 1]               0\n",
      "================================================================\n",
      "Total params: 3,094,785\n",
      "Trainable params: 3,094,785\n",
      "Non-trainable params: 0\n",
      "----------------------------------------------------------------\n",
      "Input size (MB): 0.75\n",
      "Forward/backward pass size (MB): 26.31\n",
      "Params size (MB): 11.81\n",
      "Estimated Total Size (MB): 38.87\n",
      "----------------------------------------------------------------\n"
     ]
    }
   ],
   "source": [
    "from torchsummary import summary\n",
    "summary(baselineD, input_size = (3, 256,256), device = 'cuda')"
   ]
  },
  {
   "cell_type": "code",
   "execution_count": 755,
   "metadata": {
    "collapsed": true
   },
   "outputs": [
    {
     "name": "stdout",
     "output_type": "stream",
     "text": [
      "----------------------------------------------------------------\n",
      "        Layer (type)               Output Shape         Param #\n",
      "================================================================\n",
      "   ConvTranspose2d-1           [-1, 1024, 4, 4]       1,639,424\n",
      "       BatchNorm2d-2           [-1, 1024, 4, 4]           2,048\n",
      "              ReLU-3           [-1, 1024, 4, 4]               0\n",
      "   ConvTranspose2d-4            [-1, 512, 8, 8]       8,389,120\n",
      "       BatchNorm2d-5            [-1, 512, 8, 8]           1,024\n",
      "              ReLU-6            [-1, 512, 8, 8]               0\n",
      "   ConvTranspose2d-7          [-1, 256, 16, 16]       2,097,408\n",
      "       BatchNorm2d-8          [-1, 256, 16, 16]             512\n",
      "              ReLU-9          [-1, 256, 16, 16]               0\n",
      "  ConvTranspose2d-10          [-1, 256, 32, 32]       1,048,832\n",
      "      BatchNorm2d-11          [-1, 256, 32, 32]             512\n",
      "             ReLU-12          [-1, 256, 32, 32]               0\n",
      "  ConvTranspose2d-13          [-1, 128, 64, 64]         524,416\n",
      "      BatchNorm2d-14          [-1, 128, 64, 64]             256\n",
      "             ReLU-15          [-1, 128, 64, 64]               0\n",
      "  ConvTranspose2d-16         [-1, 64, 128, 128]         131,136\n",
      "      BatchNorm2d-17         [-1, 64, 128, 128]             128\n",
      "             ReLU-18         [-1, 64, 128, 128]               0\n",
      "  ConvTranspose2d-19          [-1, 3, 256, 256]           3,075\n",
      "             Tanh-20          [-1, 3, 256, 256]               0\n",
      "================================================================\n",
      "Total params: 13,837,891\n",
      "Trainable params: 13,837,891\n",
      "Non-trainable params: 0\n",
      "----------------------------------------------------------------\n",
      "Input size (MB): 0.00\n",
      "Forward/backward pass size (MB): 47.62\n",
      "Params size (MB): 52.79\n",
      "Estimated Total Size (MB): 100.41\n",
      "----------------------------------------------------------------\n"
     ]
    }
   ],
   "source": [
    "summary(baselineG, input_size = (100,1,1), device = 'cuda')"
   ]
  },
  {
   "cell_type": "code",
   "execution_count": null,
   "metadata": {},
   "outputs": [],
   "source": []
  }
 ],
 "metadata": {
  "kernelspec": {
   "display_name": "Python 3",
   "language": "python",
   "name": "python3"
  },
  "language_info": {
   "codemirror_mode": {
    "name": "ipython",
    "version": 3
   },
   "file_extension": ".py",
   "mimetype": "text/x-python",
   "name": "python",
   "nbconvert_exporter": "python",
   "pygments_lexer": "ipython3",
   "version": "3.7.3"
  }
 },
 "nbformat": 4,
 "nbformat_minor": 2
}
