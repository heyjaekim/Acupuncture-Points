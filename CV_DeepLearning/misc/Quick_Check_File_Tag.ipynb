{
 "cells": [
  {
   "cell_type": "code",
   "execution_count": 26,
   "metadata": {},
   "outputs": [],
   "source": [
    "import os\n",
    "import json\n",
    "#os.listdir()\n",
    "from torchvision import transforms\n",
    "from Training_utils import *"
   ]
  },
  {
   "cell_type": "code",
   "execution_count": 28,
   "metadata": {},
   "outputs": [
    {
     "data": {
      "text/plain": [
       "['.gitignore',\n",
       " '.ipynb_checkpoints',\n",
       " 'Acu_Dataset',\n",
       " 'color_mnist2',\n",
       " 'create_new_mnist.ipynb',\n",
       " 'dataset',\n",
       " 'GAN_utils.py',\n",
       " 'Hands.ipynb',\n",
       " 'Hands_sobu',\n",
       " 'Image_Process_utils.py',\n",
       " 'lena.png',\n",
       " 'mnist.csv',\n",
       " 'mnist_eda.R',\n",
       " 'model_utils.py',\n",
       " 'nogung_intersection.json',\n",
       " 'Quick_Check_File_Tag.ipynb',\n",
       " 'README.md',\n",
       " 'tb_utils.py',\n",
       " 'Test_Hand_Dataset.ipynb',\n",
       " 'Toy_Model_Mnist_GAN.ipynb',\n",
       " 'Toy_Model_Mnist_Regression.ipynb',\n",
       " 'Training_utils.py',\n",
       " 'validation_set_simul.R',\n",
       " '__pycache__',\n",
       " '뒤.jpg',\n",
       " '앞.jpg']"
      ]
     },
     "execution_count": 28,
     "metadata": {},
     "output_type": "execute_result"
    }
   ],
   "source": [
    "os.listdir()"
   ]
  },
  {
   "cell_type": "markdown",
   "metadata": {},
   "source": [
    "#### check"
   ]
  },
  {
   "cell_type": "code",
   "execution_count": null,
   "metadata": {},
   "outputs": [],
   "source": []
  },
  {
   "cell_type": "code",
   "execution_count": null,
   "metadata": {},
   "outputs": [],
   "source": []
  },
  {
   "cell_type": "code",
   "execution_count": 1,
   "metadata": {},
   "outputs": [
    {
     "name": "stdout",
     "output_type": "stream",
     "text": [
      "current path: C:\\Users\\NormalKim\\[0_BigData_Acu]\\Acupuncture-Points\\CV_DeepLearning\n"
     ]
    }
   ],
   "source": [
    "import os\n",
    "import json\n",
    "#os.listdir()\n",
    "from torchvision import transforms\n",
    "from Training_utils import *"
   ]
  },
  {
   "cell_type": "code",
   "execution_count": 42,
   "metadata": {},
   "outputs": [
    {
     "data": {
      "text/plain": [
       "['change', 'org', 'sotack_info.json', 'sotack_info_2.json', 'sotack_info_원본']"
      ]
     },
     "execution_count": 42,
     "metadata": {},
     "output_type": "execute_result"
    }
   ],
   "source": [
    "os.listdir('./Acu_Dataset/sotack')"
   ]
  },
  {
   "cell_type": "code",
   "execution_count": null,
   "metadata": {},
   "outputs": [],
   "source": [
    "os.chdir('..')\n",
    "os.getcwd() # 'C:\\\\Users\\\\NormalKim\\\\[0_BigData_Acu]\\\\Acupuncture-Points\\\\CV_DeepLearning'"
   ]
  },
  {
   "cell_type": "code",
   "execution_count": 43,
   "metadata": {},
   "outputs": [],
   "source": [
    "json_file = './Acu_Dataset/sotack/sotack_info_2.json'"
   ]
  },
  {
   "cell_type": "code",
   "execution_count": 44,
   "metadata": {},
   "outputs": [],
   "source": [
    "with open(json_file) as f:\n",
    "    json_data = json.load(f)"
   ]
  },
  {
   "cell_type": "code",
   "execution_count": 45,
   "metadata": {},
   "outputs": [
    {
     "data": {
      "text/plain": [
       "987"
      ]
     },
     "execution_count": 45,
     "metadata": {},
     "output_type": "execute_result"
    }
   ],
   "source": [
    "len(json_data)"
   ]
  },
  {
   "cell_type": "code",
   "execution_count": 40,
   "metadata": {
    "scrolled": true
   },
   "outputs": [],
   "source": [
    "my_transforms = transforms.Compose([\n",
    "    transforms.ToTensor()\n",
    "    #transforms.Normalize((0.5,), (0.5,)),\n",
    "    ])\n",
    "img_dir = './Acu_Dataset/nogung/org'\n",
    "json_file = './Acu_Dataset/nogung/nogung_info.json'\n",
    "dataset_ng = HandDataSet(json_file, img_dir, train=True, transform = my_transforms)"
   ]
  },
  {
   "cell_type": "code",
   "execution_count": null,
   "metadata": {},
   "outputs": [],
   "source": []
  },
  {
   "cell_type": "code",
   "execution_count": null,
   "metadata": {},
   "outputs": [],
   "source": []
  },
  {
   "cell_type": "code",
   "execution_count": null,
   "metadata": {},
   "outputs": [],
   "source": []
  },
  {
   "cell_type": "code",
   "execution_count": null,
   "metadata": {},
   "outputs": [],
   "source": []
  },
  {
   "cell_type": "code",
   "execution_count": null,
   "metadata": {},
   "outputs": [],
   "source": []
  },
  {
   "cell_type": "code",
   "execution_count": null,
   "metadata": {},
   "outputs": [],
   "source": []
  },
  {
   "cell_type": "markdown",
   "metadata": {},
   "source": [
    "#### json preprocessing : mismatch, resize, other transformation"
   ]
  },
  {
   "cell_type": "code",
   "execution_count": 5,
   "metadata": {},
   "outputs": [],
   "source": [
    "import json\n",
    "import os\n",
    "from os.path import isfile, join\n",
    "import re\n",
    "\n",
    "# 현재 디렉토리에 있는 파일들 중 확장자가 .json인 파일만을 출력.\n",
    "def print_json_filename(dirname):\n",
    "    full_filenames = []\n",
    "    filenames = os.listdir(dirname)\n",
    "    for filename in filenames:\n",
    "        full_filename = os.path.join('', filename)\n",
    "        ext = os.path.splitext(full_filename)[-1]\n",
    "        if ext == '.json': \n",
    "            full_filenames.append(full_filename)\n",
    "    return(full_filenames)\n",
    "\n",
    "# json 파일 열기\n",
    "def open_json_file(file_name):\n",
    "    if isfile(file_name):\n",
    "        with open(file_name, 'r') as json_file:\n",
    "            json_data = json.load(json_file)\n",
    "        return json_data\n",
    "    else:\n",
    "        return dict()\n",
    "    \n",
    "# json 파일 cleaning\n",
    "def cleaning_json(json_file):\n",
    "    for i in list(json_file.keys()):\n",
    "        try:\n",
    "            json_file[i][1]\n",
    "        except IndexError:\n",
    "            json_file.pop(i)\n",
    "    print('cleaned')\n",
    "    \n",
    "# json merge(update)\n",
    "def json_merge(jf1, jf2):\n",
    "    return(jf1.update(jf2))\n",
    "\n",
    "# dir 안의 png파일 이름 모두 불러오기 -> list 형태로 저장\n",
    "def search(dirname):\n",
    "    filenames = os.listdir(dirname)\n",
    "    filename_list = []\n",
    "    for filename in filenames:\n",
    "        full_filename = os.path.join('', filename)\n",
    "        ext = os.path.splitext(full_filename)[-1]\n",
    "        if ext == '.png': \n",
    "            filename_list.append(full_filename)\n",
    "    return(filename_list)\n",
    "\n",
    "# 숫자만 리스트 형태로 저장\n",
    "def return_only_number_in_list(list_name):\n",
    "    new_list_name = []\n",
    "    for i in range(0,len(list_name)):\n",
    "        k = re.split('_',list_name[i])[1].split('.')[0]\n",
    "        new_list_name.append(k)\n",
    "    return(new_list_name)\n",
    "\n",
    "# 통합\n",
    "def json_intersection_extract(dirname,acup_left_dirname, acup_right_dirname,acup_name):\n",
    "    json_filename_list = print_json_filename(dirname)\n",
    "    print(json_filename_list)\n",
    "    \n",
    "    json_to_dictionary = {}\n",
    "    for i in range(len(json_filename_list)):\n",
    "        json_to_dictionary.update(open_json_file(json_filename_list[i]))\n",
    "    \n",
    "    \n",
    "    cleaning_json(json_to_dictionary)\n",
    "    \n",
    "    json_file_keys = return_only_number_in_list(list(json_to_dictionary.keys()))\n",
    "    \n",
    "    left_intersection = set(return_only_number_in_list(search(join(acup_left_dirname,'change')))) & set(return_only_number_in_list(search(join(acup_left_dirname,'org'))))\n",
    "    right_intersection = set(return_only_number_in_list(search(join(acup_right_dirname,'change')))) & set(return_only_number_in_list(search(join(acup_right_dirname,'org'))))\n",
    "\n",
    "    lr_joined_set = left_intersection | right_intersection\n",
    "    \n",
    "    \n",
    "    completed_set = set(json_file_keys) & lr_joined_set\n",
    "    \n",
    "    c = set()\n",
    "    for i in completed_set:\n",
    "        k = 'sangyang_'+i\n",
    "        c.add(k)\n",
    "\n",
    "    global d\n",
    "    d = dict()\n",
    "    for j in c:\n",
    "        d[j]=json_to_dictionary[j]\n",
    "    \n",
    "    with open(acup_name + '_intersection.json', 'w', encoding='utf-8') as make_file:  # 맨 마지막 라인 저장\n",
    "        json.dump(d, make_file, indent=\"\\t\")"
   ]
  },
  {
   "cell_type": "code",
   "execution_count": 17,
   "metadata": {},
   "outputs": [
    {
     "name": "stdout",
     "output_type": "stream",
     "text": [
      "['nogung_info.json']\n",
      "cleaned\n"
     ]
    }
   ],
   "source": [
    "json_intersection_extract('./Acu_Dataset/nogung', './Acu_Dataset/nogung/palmar_left',\n",
    "                                        './Acu_Dataset/nogung/palmar_right', 'nogung')"
   ]
  },
  {
   "cell_type": "code",
   "execution_count": 16,
   "metadata": {},
   "outputs": [
    {
     "data": {
      "text/plain": [
       "['change', 'org']"
      ]
     },
     "execution_count": 16,
     "metadata": {},
     "output_type": "execute_result"
    }
   ],
   "source": [
    "os.listdir('./Acu_Dataset/nogung/palmar_left')"
   ]
  },
  {
   "cell_type": "code",
   "execution_count": null,
   "metadata": {},
   "outputs": [],
   "source": [
    "json_intersection_extract('./', './no')"
   ]
  },
  {
   "cell_type": "code",
   "execution_count": 21,
   "metadata": {
    "collapsed": true
   },
   "outputs": [
    {
     "data": {
      "text/plain": [
       "{'nogung_0002747': [{'acup_info': 'nogung',\n",
       "   'hand_pos': 'palmar_left',\n",
       "   'acup_size': '3'},\n",
       "  {'acup_coord_x': 385, 'acup_coord_y': 490, 'acup_coord': [385, 490]}],\n",
       " 'nogung_0010334': [{'acup_info': 'nogung',\n",
       "   'hand_pos': 'palmar_left',\n",
       "   'acup_size': '3'},\n",
       "  {'acup_coord_x': 359, 'acup_coord_y': 444, 'acup_coord': [359, 444]}],\n",
       " 'nogung_0000411': [{'acup_info': 'nogung',\n",
       "   'hand_pos': 'palmar_left',\n",
       "   'acup_size': '3'},\n",
       "  {'acup_coord_x': 271, 'acup_coord_y': 340, 'acup_coord': [271, 340]}],\n",
       " 'nogung_0000412': [{'acup_info': 'nogung',\n",
       "   'hand_pos': 'palmar_left',\n",
       "   'acup_size': '3'},\n",
       "  {'acup_coord_x': 274, 'acup_coord_y': 333, 'acup_coord': [274, 333]}],\n",
       " 'nogung_0000413': [{'acup_info': 'nogung',\n",
       "   'hand_pos': 'palmar_left',\n",
       "   'acup_size': '3'},\n",
       "  {'acup_coord_x': 271, 'acup_coord_y': 338, 'acup_coord': [271, 338]}],\n",
       " 'nogung_0000414': [{'acup_info': 'nogung',\n",
       "   'hand_pos': 'palmar_left',\n",
       "   'acup_size': '3'},\n",
       "  {'acup_coord_x': 275, 'acup_coord_y': 335, 'acup_coord': [275, 335]}],\n",
       " 'nogung_0000584': [{'acup_info': 'nogung',\n",
       "   'hand_pos': 'palmar_left',\n",
       "   'acup_size': '3'},\n",
       "  {'acup_coord_x': 270, 'acup_coord_y': 429, 'acup_coord': [270, 429]}],\n",
       " 'nogung_0000821': [{'acup_info': 'nogung',\n",
       "   'hand_pos': 'palmar_left',\n",
       "   'acup_size': '3'},\n",
       "  {'acup_coord_x': 298, 'acup_coord_y': 460, 'acup_coord': [298, 460]}],\n",
       " 'nogung_0000865': [{'acup_info': 'nogung',\n",
       "   'hand_pos': 'palmar_left',\n",
       "   'acup_size': '3'},\n",
       "  {'acup_coord_x': 347, 'acup_coord_y': 400, 'acup_coord': [347, 400]}],\n",
       " 'nogung_0000866': [{'acup_info': 'nogung',\n",
       "   'hand_pos': 'palmar_left',\n",
       "   'acup_size': '3'},\n",
       "  {'acup_coord_x': 355, 'acup_coord_y': 404, 'acup_coord': [355, 404]}],\n",
       " 'nogung_0000867': [{'acup_info': 'nogung',\n",
       "   'hand_pos': 'palmar_left',\n",
       "   'acup_size': '3'},\n",
       "  {'acup_coord_x': 349, 'acup_coord_y': 403, 'acup_coord': [349, 403]}],\n",
       " 'nogung_0000868': [{'acup_info': 'nogung',\n",
       "   'hand_pos': 'palmar_left',\n",
       "   'acup_size': '3'},\n",
       "  {'acup_coord_x': 344, 'acup_coord_y': 403, 'acup_coord': [344, 403]}],\n",
       " 'nogung_0000869': [{'acup_info': 'nogung',\n",
       "   'hand_pos': 'palmar_left',\n",
       "   'acup_size': '3'},\n",
       "  {'acup_coord_x': 343, 'acup_coord_y': 403, 'acup_coord': [343, 403]}],\n",
       " 'nogung_0001039': [{'acup_info': 'nogung',\n",
       "   'hand_pos': 'palmar_left',\n",
       "   'acup_size': '3'},\n",
       "  {'acup_coord_x': 383, 'acup_coord_y': 490, 'acup_coord': [383, 490]}],\n",
       " 'nogung_0001082': [{'acup_info': 'nogung',\n",
       "   'hand_pos': 'palmar_left',\n",
       "   'acup_size': '3'},\n",
       "  {'acup_coord_x': 284, 'acup_coord_y': 512, 'acup_coord': [284, 512]}],\n",
       " 'nogung_0001085': [{'acup_info': 'nogung',\n",
       "   'hand_pos': 'palmar_left',\n",
       "   'acup_size': '3'},\n",
       "  {'acup_coord_x': 285, 'acup_coord_y': 493, 'acup_coord': [285, 493]}],\n",
       " 'nogung_0002806': [{'acup_info': 'nogung',\n",
       "   'hand_pos': 'palmar_left',\n",
       "   'acup_size': '3'},\n",
       "  {'acup_coord_x': 259, 'acup_coord_y': 392, 'acup_coord': [259, 392]}],\n",
       " 'nogung_0002807': [{'acup_info': 'nogung',\n",
       "   'hand_pos': 'palmar_left',\n",
       "   'acup_size': '3'},\n",
       "  {'acup_coord_x': 258, 'acup_coord_y': 388, 'acup_coord': [258, 388]}],\n",
       " 'nogung_0002808': [{'acup_info': 'nogung',\n",
       "   'hand_pos': 'palmar_left',\n",
       "   'acup_size': '3'},\n",
       "  {'acup_coord_x': 257, 'acup_coord_y': 386, 'acup_coord': [257, 386]}],\n",
       " 'nogung_0002809': [{'acup_info': 'nogung',\n",
       "   'hand_pos': 'palmar_left',\n",
       "   'acup_size': '3'},\n",
       "  {'acup_coord_x': 261, 'acup_coord_y': 392, 'acup_coord': [261, 392]}],\n",
       " 'nogung_0002810': [{'acup_info': 'nogung',\n",
       "   'hand_pos': 'palmar_left',\n",
       "   'acup_size': '3'},\n",
       "  {'acup_coord_x': 262, 'acup_coord_y': 396, 'acup_coord': [262, 396]}],\n",
       " 'nogung_0002811': [{'acup_info': 'nogung',\n",
       "   'hand_pos': 'palmar_left',\n",
       "   'acup_size': '3'},\n",
       "  {'acup_coord_x': 262, 'acup_coord_y': 393, 'acup_coord': [262, 393]}],\n",
       " 'nogung_0002812': [{'acup_info': 'nogung',\n",
       "   'hand_pos': 'palmar_left',\n",
       "   'acup_size': '3'},\n",
       "  {'acup_coord_x': 260, 'acup_coord_y': 400, 'acup_coord': [260, 400]}],\n",
       " 'nogung_0003612': [{'acup_info': 'nogung',\n",
       "   'hand_pos': 'palmar_left',\n",
       "   'acup_size': '3'},\n",
       "  {'acup_coord_x': 200, 'acup_coord_y': 496, 'acup_coord': [200, 496]}],\n",
       " 'nogung_0003914': [{'acup_info': 'nogung',\n",
       "   'hand_pos': 'palmar_left',\n",
       "   'acup_size': '3'},\n",
       "  {'acup_coord_x': 179, 'acup_coord_y': 405, 'acup_coord': [179, 405]}],\n",
       " 'nogung_0003915': [{'acup_info': 'nogung',\n",
       "   'hand_pos': 'palmar_left',\n",
       "   'acup_size': '3'},\n",
       "  {'acup_coord_x': 177, 'acup_coord_y': 393, 'acup_coord': [177, 393]}],\n",
       " 'nogung_0003916': [{'acup_info': 'nogung',\n",
       "   'hand_pos': 'palmar_left',\n",
       "   'acup_size': '3'},\n",
       "  {'acup_coord_x': 179, 'acup_coord_y': 390, 'acup_coord': [179, 390]}],\n",
       " 'nogung_0003917': [{'acup_info': 'nogung',\n",
       "   'hand_pos': 'palmar_left',\n",
       "   'acup_size': '3'},\n",
       "  {'acup_coord_x': 184, 'acup_coord_y': 385, 'acup_coord': [184, 385]}],\n",
       " 'nogung_0003918': [{'acup_info': 'nogung',\n",
       "   'hand_pos': 'palmar_left',\n",
       "   'acup_size': '3'},\n",
       "  {'acup_coord_x': 181, 'acup_coord_y': 385, 'acup_coord': [181, 385]}],\n",
       " 'nogung_0003919': [{'acup_info': 'nogung',\n",
       "   'hand_pos': 'palmar_left',\n",
       "   'acup_size': '3'},\n",
       "  {'acup_coord_x': 181, 'acup_coord_y': 384, 'acup_coord': [181, 384]}],\n",
       " 'nogung_0003920': [{'acup_info': 'nogung',\n",
       "   'hand_pos': 'palmar_left',\n",
       "   'acup_size': '3'},\n",
       "  {'acup_coord_x': 175, 'acup_coord_y': 383, 'acup_coord': [175, 383]}],\n",
       " 'nogung_0003921': [{'acup_info': 'nogung',\n",
       "   'hand_pos': 'palmar_left',\n",
       "   'acup_size': '3'},\n",
       "  {'acup_coord_x': 174, 'acup_coord_y': 383, 'acup_coord': [174, 383]}],\n",
       " 'nogung_0006863': [{'acup_info': 'nogung',\n",
       "   'hand_pos': 'palmar_left',\n",
       "   'acup_size': '3'},\n",
       "  {'acup_coord_x': 342, 'acup_coord_y': 463, 'acup_coord': [342, 463]}],\n",
       " 'nogung_0007180': [{'acup_info': 'nogung',\n",
       "   'hand_pos': 'palmar_left',\n",
       "   'acup_size': '3'},\n",
       "  {'acup_coord_x': 340, 'acup_coord_y': 397, 'acup_coord': [340, 397]}]}"
      ]
     },
     "execution_count": 21,
     "metadata": {},
     "output_type": "execute_result"
    }
   ],
   "source": [
    "open_json_file('./Acu_Dataset/nogung/nogung_info.json')"
   ]
  },
  {
   "cell_type": "code",
   "execution_count": 23,
   "metadata": {},
   "outputs": [],
   "source": [
    "json_file = './Acu_Dataset/nogung/nogung_info.json'\n",
    "#HandDataSet(json_file, root)\n",
    "with open(json_file) as f:\n",
    "    json_data = json.load(f)\n",
    "keys = list(json_data.keys())\n",
    "kw = json_data[keys[0]][0]['acup_info']\n",
    "keys_modified = [ keys[i].replace(kw, 'Hand') for i in range(len(keys)) ]"
   ]
  },
  {
   "cell_type": "code",
   "execution_count": 25,
   "metadata": {},
   "outputs": [
    {
     "data": {
      "text/plain": [
       "5367"
      ]
     },
     "execution_count": 25,
     "metadata": {},
     "output_type": "execute_result"
    }
   ],
   "source": [
    "len(keys_modified)"
   ]
  },
  {
   "cell_type": "code",
   "execution_count": null,
   "metadata": {},
   "outputs": [],
   "source": []
  },
  {
   "cell_type": "code",
   "execution_count": null,
   "metadata": {},
   "outputs": [],
   "source": []
  },
  {
   "cell_type": "code",
   "execution_count": null,
   "metadata": {},
   "outputs": [],
   "source": []
  },
  {
   "cell_type": "code",
   "execution_count": null,
   "metadata": {},
   "outputs": [],
   "source": []
  },
  {
   "cell_type": "code",
   "execution_count": null,
   "metadata": {},
   "outputs": [],
   "source": []
  },
  {
   "cell_type": "code",
   "execution_count": null,
   "metadata": {},
   "outputs": [],
   "source": []
  },
  {
   "cell_type": "code",
   "execution_count": null,
   "metadata": {},
   "outputs": [],
   "source": []
  },
  {
   "cell_type": "code",
   "execution_count": null,
   "metadata": {},
   "outputs": [],
   "source": []
  }
 ],
 "metadata": {
  "kernelspec": {
   "display_name": "Python 3",
   "language": "python",
   "name": "python3"
  },
  "language_info": {
   "codemirror_mode": {
    "name": "ipython",
    "version": 3
   },
   "file_extension": ".py",
   "mimetype": "text/x-python",
   "name": "python",
   "nbconvert_exporter": "python",
   "pygments_lexer": "ipython3",
   "version": "3.7.3"
  }
 },
 "nbformat": 4,
 "nbformat_minor": 2
}
