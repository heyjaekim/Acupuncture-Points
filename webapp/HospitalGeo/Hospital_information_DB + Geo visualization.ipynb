{
 "cells": [
  {
   "cell_type": "code",
   "execution_count": 77,
   "metadata": {},
   "outputs": [
    {
     "data": {
      "text/plain": [
       "datetime.datetime(2020, 8, 22, 13, 45, 29, 835634)"
      ]
     },
     "execution_count": 77,
     "metadata": {},
     "output_type": "execute_result"
    }
   ],
   "source": [
    "from datetime import datetime\n",
    "datetime.now(tz=None)"
   ]
  },
  {
   "cell_type": "code",
   "execution_count": 80,
   "metadata": {},
   "outputs": [],
   "source": [
    "import sqlite3\n",
    "import sqlalchemy\n",
    "from sqlalchemy import create_engine\n",
    "from sqlalchemy import Table, Column, Integer, String, MetaData, ForeignKey\n",
    "\n",
    "engine = create_engine('sqlite:///hospital_last.db')\n",
    "meta = MetaData()\n",
    "\n",
    "Hospital = Table('Hospital',meta,\n",
    "Column('dutyAddr', String),\n",
    "Column('Add_level1', String),\n",
    "Column('Add_level2', String),\n",
    "Column('Add_level3', String),\n",
    "Column('dutyDiv', String),\n",
    "Column('dutyDivNam', String),\n",
    "Column('dutyEmcls', String),\n",
    "Column('dutyEmclsName', String),\n",
    "Column('dutyEryn', String),\n",
    "Column('dutyMapimg', String),\n",
    "Column('dutyName', String),\n",
    "Column('dutyTel1', String),\n",
    "Column('dutyTime1c', String),\n",
    "Column('dutyTime1s', String),\n",
    "Column('dutyTime2c', String),\n",
    "Column('dutyTime2s', String),\n",
    "Column('dutyTime3c', String),\n",
    "Column('dutyTime3s', String),\n",
    "Column('dutyTime4c', String),\n",
    "Column('dutyTime4s', String),\n",
    "Column('dutyTime5c', String),\n",
    "Column('dutyTime5s', String),\n",
    "Column('dutyTime6c', String),\n",
    "Column('dutyTime6s', String),\n",
    "Column('hpid', String),\n",
    "Column('postCdn1', String),\n",
    "Column('postCdn2', String),\n",
    "Column('rnum', String, primary_key=True),\n",
    "Column('wgs84Lat', String),\n",
    "Column('wgs84Lon', String))\n",
    "meta.create_all(engine)"
   ]
  },
  {
   "cell_type": "code",
   "execution_count": 34,
   "metadata": {},
   "outputs": [
    {
     "data": {
      "text/plain": [
       "['경기도', '여주시', '세종로', '11']"
      ]
     },
     "execution_count": 34,
     "metadata": {},
     "output_type": "execute_result"
    }
   ],
   "source": [
    "result[0]['dutyAddr'].split()"
   ]
  },
  {
   "cell_type": "code",
   "execution_count": 81,
   "metadata": {},
   "outputs": [
    {
     "ename": "KeyError",
     "evalue": "'response'",
     "output_type": "error",
     "traceback": [
      "\u001b[1;31m---------------------------------------------------------------------------\u001b[0m",
      "\u001b[1;31mKeyError\u001b[0m                                  Traceback (most recent call last)",
      "\u001b[1;32m<ipython-input-81-ff38d811d687>\u001b[0m in \u001b[0;36m<module>\u001b[1;34m\u001b[0m\n\u001b[0;32m      8\u001b[0m     \u001b[0mcc\u001b[0m \u001b[1;33m=\u001b[0m \u001b[0mxmltodict\u001b[0m\u001b[1;33m.\u001b[0m\u001b[0mparse\u001b[0m\u001b[1;33m(\u001b[0m\u001b[0mresponse\u001b[0m\u001b[1;33m.\u001b[0m\u001b[0mtext\u001b[0m\u001b[1;33m)\u001b[0m\u001b[1;33m\u001b[0m\u001b[1;33m\u001b[0m\u001b[0m\n\u001b[0;32m      9\u001b[0m     \u001b[0mdd\u001b[0m \u001b[1;33m=\u001b[0m \u001b[0mjson\u001b[0m\u001b[1;33m.\u001b[0m\u001b[0mloads\u001b[0m\u001b[1;33m(\u001b[0m\u001b[0mjson\u001b[0m\u001b[1;33m.\u001b[0m\u001b[0mdumps\u001b[0m\u001b[1;33m(\u001b[0m\u001b[0mcc\u001b[0m\u001b[1;33m)\u001b[0m\u001b[1;33m)\u001b[0m\u001b[1;33m\u001b[0m\u001b[1;33m\u001b[0m\u001b[0m\n\u001b[1;32m---> 10\u001b[1;33m     \u001b[0mresult\u001b[0m \u001b[1;33m=\u001b[0m \u001b[0mdd\u001b[0m\u001b[1;33m[\u001b[0m\u001b[1;34m'response'\u001b[0m\u001b[1;33m]\u001b[0m\u001b[1;33m[\u001b[0m\u001b[1;34m'body'\u001b[0m\u001b[1;33m]\u001b[0m\u001b[1;33m[\u001b[0m\u001b[1;34m'items'\u001b[0m\u001b[1;33m]\u001b[0m\u001b[1;33m[\u001b[0m\u001b[1;34m'item'\u001b[0m\u001b[1;33m]\u001b[0m\u001b[1;33m\u001b[0m\u001b[1;33m\u001b[0m\u001b[0m\n\u001b[0m\u001b[0;32m     11\u001b[0m \u001b[1;33m\u001b[0m\u001b[0m\n\u001b[0;32m     12\u001b[0m \u001b[1;33m\u001b[0m\u001b[0m\n",
      "\u001b[1;31mKeyError\u001b[0m: 'response'"
     ]
    }
   ],
   "source": [
    "import xmltodict\n",
    "import json\n",
    "import requests\n",
    "\n",
    "for i in range(1,200):\n",
    "    a = \"http://apis.data.go.kr/B552657/HsptlAsembySearchService/getHsptlMdcncFullDown?pageNo=\"+str(i)+\"&numOfRows=500&ServiceKey=jPNWIruN1H52BtrIdrslPWPBfN2mY28AXvsD%2BscxfWuaeVoclCVyrtokg5YYTJVSEKJil0kdBpsXX5N%2BnB5cKA%3D%3D\"\n",
    "    response = requests.get(a)\n",
    "    cc = xmltodict.parse(response.text)\n",
    "    dd = json.loads(json.dumps(cc))\n",
    "    result = dd['response']['body']['items']['item']\n",
    "    \n",
    "    \n",
    "    for j in range(500):\n",
    "        tmp = result[j]['dutyAddr'].split()\n",
    "\n",
    "        result[j]['Add_level1'] = tmp[0]\n",
    "        result[j]['Add_level2'] = tmp[1]\n",
    "        result[j]['Add_level3'] = tmp[2]\n",
    "        engine.execute(Hospital.insert(), result[j])"
   ]
  },
  {
   "cell_type": "code",
   "execution_count": null,
   "metadata": {},
   "outputs": [],
   "source": []
  },
  {
   "cell_type": "code",
   "execution_count": 115,
   "metadata": {},
   "outputs": [
    {
     "data": {
      "text/plain": [
       "('서울특별시', '관악구', '관악로')"
      ]
     },
     "execution_count": 115,
     "metadata": {},
     "output_type": "execute_result"
    }
   ],
   "source": [
    "Location( 126.95391488470001, 37.48337892720001)"
   ]
  },
  {
   "cell_type": "code",
   "execution_count": 146,
   "metadata": {},
   "outputs": [
    {
     "data": {
      "text/plain": [
       "75"
      ]
     },
     "execution_count": 146,
     "metadata": {},
     "output_type": "execute_result"
    }
   ],
   "source": [
    "len(tmp)"
   ]
  },
  {
   "cell_type": "code",
   "execution_count": 143,
   "metadata": {},
   "outputs": [
    {
     "data": {
      "text/plain": [
       "('37.479738442', '126.9528769771')"
      ]
     },
     "execution_count": 143,
     "metadata": {},
     "output_type": "execute_result"
    }
   ],
   "source": [
    "tmp[0][5], tmp[0][6]"
   ]
  },
  {
   "cell_type": "markdown",
   "metadata": {},
   "source": [
    "# 현재 위치 좌표 검색 후 주변 병원 탐색"
   ]
  },
  {
   "cell_type": "code",
   "execution_count": null,
   "metadata": {},
   "outputs": [],
   "source": [
    "import os \n",
    "import numpy as np \n",
    "import folium\n",
    "from folium import plugins"
   ]
  },
  {
   "cell_type": "code",
   "execution_count": 112,
   "metadata": {},
   "outputs": [],
   "source": [
    "def Location(Lon,Lat):\n",
    "    geoUrl = 'http://api.vworld.kr/req/address?service=address&request=getAddress&version=2.0&crs=epsg:4326&point=' + str(Lon) + ',' + str(Lat) + '&format=xml&type=road&zipcode=true&simple=false&key=35C83A30-300F-3C4C-9224-D8712B43726D'\n",
    "    response = requests.get(geoUrl)\n",
    "    xmldict = xmltodict.parse(response.text)\n",
    "    geoResult = json.loads(json.dumps(xmldict))\n",
    "    return geoResult['response']['result']['item']['structure']['level1'], geoResult['response']['result']['item']['structure']['level2'], geoResult['response']['result']['item']['structure']['level4L']"
   ]
  },
  {
   "cell_type": "code",
   "execution_count": 123,
   "metadata": {},
   "outputs": [
    {
     "data": {
      "text/plain": [
       "('서울특별시', '노원구', '중계로')"
      ]
     },
     "execution_count": 123,
     "metadata": {},
     "output_type": "execute_result"
    }
   ],
   "source": [
    "# https://www.zerocho.com/category/HTML&DOM/post/59155228a22a5d001827ea5d < 현재 위치 정보 가지고 오기\n",
    "#Location('37.649400290444504', '127.08134511742941')\n",
    "Location(127.08134511742941,37.649400290444504)"
   ]
  },
  {
   "cell_type": "code",
   "execution_count": 134,
   "metadata": {},
   "outputs": [],
   "source": [
    "m = folium.Map([37.649400290444504,127.08134511742941], zoom_start=20)\n",
    "folium.Marker([37.5665, 126.9780]).add_to(m)"
   ]
  },
  {
   "cell_type": "code",
   "execution_count": 153,
   "metadata": {},
   "outputs": [],
   "source": [
    "import numbers\n",
    "import math\n",
    "\n",
    "class GeoUtil:\n",
    "    \"\"\"\n",
    "    Geographical Utils\n",
    "    \"\"\"\n",
    "    @staticmethod\n",
    "    def degree2radius(degree):\n",
    "        return degree * (math.pi/180)\n",
    "    \n",
    "    @staticmethod\n",
    "    def get_harversion_distance(x1, y1, x2, y2, round_decimal_digits=5):\n",
    "        \"\"\"\n",
    "        경위도 (x1,y1)과 (x2,y2) 점의 거리를 반환\n",
    "        Harversion Formula 이용하여 2개의 경위도간 거리를 구함(단위:Km)\n",
    "        \"\"\"\n",
    "        if x1 is None or y1 is None or x2 is None or y2 is None:\n",
    "            return None\n",
    "        assert isinstance(x1, numbers.Number) and -180 <= x1 and x1 <= 180\n",
    "        assert isinstance(y1, numbers.Number) and  -90 <= y1 and y1 <=  90\n",
    "        assert isinstance(x2, numbers.Number) and -180 <= x2 and x2 <= 180\n",
    "        assert isinstance(y2, numbers.Number) and  -90 <= y2 and y2 <=  90\n",
    "\n",
    "        R = 6371 # 지구의 반경(단위: km)\n",
    "        dLon = GeoUtil.degree2radius(x2-x1)    \n",
    "        dLat = GeoUtil.degree2radius(y2-y1)\n",
    "\n",
    "        a = math.sin(dLat/2) * math.sin(dLat/2) \\\n",
    "            + (math.cos(GeoUtil.degree2radius(y1)) \\\n",
    "              *math.cos(GeoUtil.degree2radius(y2)) \\\n",
    "              *math.sin(dLon/2) * math.sin(dLon/2))\n",
    "        b = 2 * math.atan2(math.sqrt(a), math.sqrt(1-a))\n",
    "        return round(R * b, round_decimal_digits)"
   ]
  },
  {
   "cell_type": "code",
   "execution_count": 168,
   "metadata": {
    "scrolled": true
   },
   "outputs": [
    {
     "name": "stdout",
     "output_type": "stream",
     "text": [
      "37.6508417136906 127.077525686582\n",
      "37.6508417136906 127.077525686582\n",
      "37.65055008500393 127.0755898660955\n",
      "37.65055008500393 127.0755898660955\n",
      "37.6508513558 127.076000097\n",
      "37.6508513558 127.076000097\n",
      "37.64925261327217 127.08122257961588\n",
      "37.64925261327217 127.08122257961588\n",
      "37.6503834948 127.07498429769998\n",
      "37.6503834948 127.07498429769998\n",
      "37.65040990136575 127.07500048179897\n",
      "37.65040990136575 127.07500048179897\n",
      "37.6505017776 127.0759952081\n",
      "37.6505017776 127.0759952081\n",
      "37.649400290444504 127.08134511742941\n",
      "37.649400290444504 127.08134511742941\n",
      "37.64928136787053 127.08133592498548\n",
      "37.64928136787053 127.08133592498548\n"
     ]
    },
    {
     "data": {
      "text/html": [
       "<div style=\"width:100%;\"><div style=\"position:relative;width:100%;height:0;padding-bottom:60%;\"><span style=\"color:#565656\">Make this Notebook Trusted to load map: File -> Trust Notebook</span><iframe src=\"about:blank\" style=\"position:absolute;width:100%;height:100%;left:0;top:0;border:none !important;\" data-html=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 onload=\"this.contentDocument.open();this.contentDocument.write(atob(this.getAttribute('data-html')));this.contentDocument.close();\" allowfullscreen webkitallowfullscreen mozallowfullscreen></iframe></div></div>"
      ],
      "text/plain": [
       "<folium.folium.Map at 0x2d04e0d41c8>"
      ]
     },
     "execution_count": 168,
     "metadata": {},
     "output_type": "execute_result"
    }
   ],
   "source": [
    "tmp = Search_loc(\"'서울특별시'\", \"'노원구'\", \"'중계로'\")\n",
    "lat, lon = 37.64928136787053,127.08133592498548\n",
    "m = folium.Map([lat, lon], zoom_start=20)\n",
    "\n",
    "for i in range(len(tmp)):\n",
    "    print(tmp[i][5], tmp[i][6])\n",
    "    if GeoUtil.get_harversion_distance(lon, lat, float(tmp[i][6]), float(tmp[i][5])) < 0.5:\n",
    "        folium.Marker([tmp[i][5], tmp[i][6]]).add_to(m)\n",
    "    print(tmp[i][5], tmp[i][6])\n",
    "m"
   ]
  },
  {
   "cell_type": "markdown",
   "metadata": {},
   "source": [
    "# 위치 기반 DB 검색"
   ]
  },
  {
   "cell_type": "code",
   "execution_count": 121,
   "metadata": {},
   "outputs": [],
   "source": [
    "def Search_loc(level1, level2, level4L):\n",
    "    conn = sqlite3.connect('hospital_last.db')\n",
    "    cur = conn.cursor()\n",
    "    cur.execute('''\n",
    "    SELECT dutyName, dutyTel1, dutyDivNam, dutyAddr, dutyMapimg,wgs84Lat, wgs84Lon \n",
    "    FROM Hospital as H\n",
    "    WHERE H.Add_level1 = ''' + level1 +'''\n",
    "    and H.Add_level2 = ''' + level2 +'''\n",
    "    and H.Add_level3 = ''' + level4L)\n",
    "    res = cur.fetchall()\n",
    "    \n",
    "    return res"
   ]
  },
  {
   "cell_type": "code",
   "execution_count": 167,
   "metadata": {},
   "outputs": [
    {
     "data": {
      "text/plain": [
       "[('중계은행사거리마취통증의학과의원',\n",
       "  '02-931-7578',\n",
       "  '의원',\n",
       "  '서울특별시 노원구 중계로 206, 세일학원 2층 (중계동)',\n",
       "  None,\n",
       "  '37.6508417136906',\n",
       "  '127.077525686582'),\n",
       " ('서울뜻이룸치과의원',\n",
       "  '02-952-1004',\n",
       "  '치과의원',\n",
       "  '서울특별시 노원구 중계로 219',\n",
       "  None,\n",
       "  '37.65055008500393',\n",
       "  '127.0755898660955'),\n",
       " ('럼플란트치과의원',\n",
       "  '02-3391-2004',\n",
       "  '치과의원',\n",
       "  '서울특별시 노원구 중계로 218, 801호 (중계동)',\n",
       "  None,\n",
       "  '37.6508513558',\n",
       "  '127.076000097'),\n",
       " ('파티마의원',\n",
       "  '02-933-0081',\n",
       "  '의원',\n",
       "  '서울특별시 노원구 중계로 160, 화인상가아파트 (중계동)',\n",
       "  '수암초등학교 옆 화인상가',\n",
       "  '37.64925261327217',\n",
       "  '127.08122257961588'),\n",
       " ('은행나무한의원',\n",
       "  '02-3392-5911',\n",
       "  '한의원',\n",
       "  '서울특별시 노원구 중계로 225, 4층 (중계동, 청구3차아파트)',\n",
       "  None,\n",
       "  '37.6503834948',\n",
       "  '127.07498429769998'),\n",
       " ('이튼치과의원',\n",
       "  '02-934-2872',\n",
       "  '치과의원',\n",
       "  '서울특별시 노원구 중계로 225',\n",
       "  '상계역, 중계역에서 버스로 이동/',\n",
       "  '37.65040990136575',\n",
       "  '127.07500048179897'),\n",
       " ('연세스마일치과의원',\n",
       "  '02-931-2666',\n",
       "  '치과의원',\n",
       "  '서울특별시 노원구 중계로 217, 4층 (중계동, 중계중흥빌딩)',\n",
       "  '중계동 학원가 은행사거리 인근',\n",
       "  '37.6505017776',\n",
       "  '127.0759952081'),\n",
       " ('예담치과의원',\n",
       "  '02-935-7528',\n",
       "  '치과의원',\n",
       "  '서울특별시 노원구 중계로 160',\n",
       "  '하계역 근처/',\n",
       "  '37.649400290444504',\n",
       "  '127.08134511742941'),\n",
       " ('경희허브한의원',\n",
       "  '02-952-3177',\n",
       "  '한의원',\n",
       "  '서울특별시 노원구 중계로 160, 211호 (중계동, 화인상가)',\n",
       "  None,\n",
       "  '37.64928136787053',\n",
       "  '127.08133592498548')]"
      ]
     },
     "execution_count": 167,
     "metadata": {},
     "output_type": "execute_result"
    }
   ],
   "source": [
    "Search_loc(\"'서울특별시'\",\"'노원구'\",\"'중계로'\")"
   ]
  }
 ],
 "metadata": {
  "kernelspec": {
   "display_name": "Python 3",
   "language": "python",
   "name": "python3"
  },
  "language_info": {
   "codemirror_mode": {
    "name": "ipython",
    "version": 3
   },
   "file_extension": ".py",
   "mimetype": "text/x-python",
   "name": "python",
   "nbconvert_exporter": "python",
   "pygments_lexer": "ipython3",
   "version": "3.7.6"
  }
 },
 "nbformat": 4,
 "nbformat_minor": 4
}
