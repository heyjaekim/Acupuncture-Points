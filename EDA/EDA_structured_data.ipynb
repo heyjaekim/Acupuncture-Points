{
 "cells": [
  {
   "cell_type": "markdown",
   "metadata": {},
   "source": [
    "## [EDA] TO DO LIST\n",
    "- dorsal 과 palmar 의 구성 비율\n",
    "- 인종, 나이대, 성별 등에 따른 plot  \n",
    "  \n",
    "- 혈위 별 이미지 개수 count -> bar chart  \n",
    "- 혈위 별 pointing 된 x,y 좌표"
   ]
  },
  {
   "cell_type": "code",
   "execution_count": 1,
   "metadata": {},
   "outputs": [],
   "source": [
    "import numpy as np\n",
    "import pandas as pd\n",
    "import matplotlib.pyplot as plt\n",
    "plt.style.use('fivethirtyeight')"
   ]
  },
  {
   "cell_type": "code",
   "execution_count": 2,
   "metadata": {},
   "outputs": [],
   "source": [
    "handinfo =  pd.read_csv('HandInfo.csv')"
   ]
  },
  {
   "cell_type": "code",
   "execution_count": 3,
   "metadata": {},
   "outputs": [
    {
     "data": {
      "text/html": [
       "<div>\n",
       "<style scoped>\n",
       "    .dataframe tbody tr th:only-of-type {\n",
       "        vertical-align: middle;\n",
       "    }\n",
       "\n",
       "    .dataframe tbody tr th {\n",
       "        vertical-align: top;\n",
       "    }\n",
       "\n",
       "    .dataframe thead th {\n",
       "        text-align: right;\n",
       "    }\n",
       "</style>\n",
       "<table border=\"1\" class=\"dataframe\">\n",
       "  <thead>\n",
       "    <tr style=\"text-align: right;\">\n",
       "      <th></th>\n",
       "      <th>id</th>\n",
       "      <th>age</th>\n",
       "      <th>gender</th>\n",
       "      <th>skinColor</th>\n",
       "      <th>accessories</th>\n",
       "      <th>nailPolish</th>\n",
       "      <th>aspectOfHand</th>\n",
       "      <th>imageName</th>\n",
       "      <th>irregularities</th>\n",
       "    </tr>\n",
       "  </thead>\n",
       "  <tbody>\n",
       "    <tr>\n",
       "      <th>0</th>\n",
       "      <td>0</td>\n",
       "      <td>27</td>\n",
       "      <td>male</td>\n",
       "      <td>fair</td>\n",
       "      <td>0</td>\n",
       "      <td>0</td>\n",
       "      <td>dorsal right</td>\n",
       "      <td>Hand_0000002.jpg</td>\n",
       "      <td>0</td>\n",
       "    </tr>\n",
       "    <tr>\n",
       "      <th>1</th>\n",
       "      <td>0</td>\n",
       "      <td>27</td>\n",
       "      <td>male</td>\n",
       "      <td>fair</td>\n",
       "      <td>0</td>\n",
       "      <td>0</td>\n",
       "      <td>dorsal right</td>\n",
       "      <td>Hand_0000003.jpg</td>\n",
       "      <td>0</td>\n",
       "    </tr>\n",
       "    <tr>\n",
       "      <th>2</th>\n",
       "      <td>0</td>\n",
       "      <td>27</td>\n",
       "      <td>male</td>\n",
       "      <td>fair</td>\n",
       "      <td>0</td>\n",
       "      <td>0</td>\n",
       "      <td>dorsal right</td>\n",
       "      <td>Hand_0000004.jpg</td>\n",
       "      <td>0</td>\n",
       "    </tr>\n",
       "    <tr>\n",
       "      <th>3</th>\n",
       "      <td>0</td>\n",
       "      <td>27</td>\n",
       "      <td>male</td>\n",
       "      <td>fair</td>\n",
       "      <td>0</td>\n",
       "      <td>0</td>\n",
       "      <td>dorsal right</td>\n",
       "      <td>Hand_0000005.jpg</td>\n",
       "      <td>0</td>\n",
       "    </tr>\n",
       "    <tr>\n",
       "      <th>4</th>\n",
       "      <td>0</td>\n",
       "      <td>27</td>\n",
       "      <td>male</td>\n",
       "      <td>fair</td>\n",
       "      <td>0</td>\n",
       "      <td>0</td>\n",
       "      <td>dorsal right</td>\n",
       "      <td>Hand_0000006.jpg</td>\n",
       "      <td>0</td>\n",
       "    </tr>\n",
       "    <tr>\n",
       "      <th>...</th>\n",
       "      <td>...</td>\n",
       "      <td>...</td>\n",
       "      <td>...</td>\n",
       "      <td>...</td>\n",
       "      <td>...</td>\n",
       "      <td>...</td>\n",
       "      <td>...</td>\n",
       "      <td>...</td>\n",
       "      <td>...</td>\n",
       "    </tr>\n",
       "    <tr>\n",
       "      <th>11071</th>\n",
       "      <td>1589</td>\n",
       "      <td>22</td>\n",
       "      <td>female</td>\n",
       "      <td>fair</td>\n",
       "      <td>0</td>\n",
       "      <td>0</td>\n",
       "      <td>palmar left</td>\n",
       "      <td>Hand_0011740.jpg</td>\n",
       "      <td>0</td>\n",
       "    </tr>\n",
       "    <tr>\n",
       "      <th>11072</th>\n",
       "      <td>1589</td>\n",
       "      <td>22</td>\n",
       "      <td>female</td>\n",
       "      <td>fair</td>\n",
       "      <td>0</td>\n",
       "      <td>0</td>\n",
       "      <td>palmar left</td>\n",
       "      <td>Hand_0011741.jpg</td>\n",
       "      <td>0</td>\n",
       "    </tr>\n",
       "    <tr>\n",
       "      <th>11073</th>\n",
       "      <td>1589</td>\n",
       "      <td>22</td>\n",
       "      <td>female</td>\n",
       "      <td>fair</td>\n",
       "      <td>0</td>\n",
       "      <td>0</td>\n",
       "      <td>palmar left</td>\n",
       "      <td>Hand_0011742.jpg</td>\n",
       "      <td>0</td>\n",
       "    </tr>\n",
       "    <tr>\n",
       "      <th>11074</th>\n",
       "      <td>1589</td>\n",
       "      <td>22</td>\n",
       "      <td>female</td>\n",
       "      <td>fair</td>\n",
       "      <td>0</td>\n",
       "      <td>0</td>\n",
       "      <td>palmar left</td>\n",
       "      <td>Hand_0011743.jpg</td>\n",
       "      <td>0</td>\n",
       "    </tr>\n",
       "    <tr>\n",
       "      <th>11075</th>\n",
       "      <td>1589</td>\n",
       "      <td>22</td>\n",
       "      <td>female</td>\n",
       "      <td>fair</td>\n",
       "      <td>0</td>\n",
       "      <td>0</td>\n",
       "      <td>palmar left</td>\n",
       "      <td>Hand_0011744.jpg</td>\n",
       "      <td>0</td>\n",
       "    </tr>\n",
       "  </tbody>\n",
       "</table>\n",
       "<p>11076 rows × 9 columns</p>\n",
       "</div>"
      ],
      "text/plain": [
       "         id  age  gender skinColor  accessories  nailPolish  aspectOfHand  \\\n",
       "0         0   27    male      fair            0           0  dorsal right   \n",
       "1         0   27    male      fair            0           0  dorsal right   \n",
       "2         0   27    male      fair            0           0  dorsal right   \n",
       "3         0   27    male      fair            0           0  dorsal right   \n",
       "4         0   27    male      fair            0           0  dorsal right   \n",
       "...     ...  ...     ...       ...          ...         ...           ...   \n",
       "11071  1589   22  female      fair            0           0   palmar left   \n",
       "11072  1589   22  female      fair            0           0   palmar left   \n",
       "11073  1589   22  female      fair            0           0   palmar left   \n",
       "11074  1589   22  female      fair            0           0   palmar left   \n",
       "11075  1589   22  female      fair            0           0   palmar left   \n",
       "\n",
       "              imageName  irregularities  \n",
       "0      Hand_0000002.jpg               0  \n",
       "1      Hand_0000003.jpg               0  \n",
       "2      Hand_0000004.jpg               0  \n",
       "3      Hand_0000005.jpg               0  \n",
       "4      Hand_0000006.jpg               0  \n",
       "...                 ...             ...  \n",
       "11071  Hand_0011740.jpg               0  \n",
       "11072  Hand_0011741.jpg               0  \n",
       "11073  Hand_0011742.jpg               0  \n",
       "11074  Hand_0011743.jpg               0  \n",
       "11075  Hand_0011744.jpg               0  \n",
       "\n",
       "[11076 rows x 9 columns]"
      ]
     },
     "execution_count": 3,
     "metadata": {},
     "output_type": "execute_result"
    }
   ],
   "source": [
    "handinfo"
   ]
  },
  {
   "cell_type": "code",
   "execution_count": 4,
   "metadata": {},
   "outputs": [
    {
     "data": {
      "text/html": [
       "<div>\n",
       "<style scoped>\n",
       "    .dataframe tbody tr th:only-of-type {\n",
       "        vertical-align: middle;\n",
       "    }\n",
       "\n",
       "    .dataframe tbody tr th {\n",
       "        vertical-align: top;\n",
       "    }\n",
       "\n",
       "    .dataframe thead th {\n",
       "        text-align: right;\n",
       "    }\n",
       "</style>\n",
       "<table border=\"1\" class=\"dataframe\">\n",
       "  <thead>\n",
       "    <tr style=\"text-align: right;\">\n",
       "      <th></th>\n",
       "      <th>id</th>\n",
       "      <th>age</th>\n",
       "      <th>accessories</th>\n",
       "      <th>nailPolish</th>\n",
       "      <th>irregularities</th>\n",
       "    </tr>\n",
       "  </thead>\n",
       "  <tbody>\n",
       "    <tr>\n",
       "      <th>count</th>\n",
       "      <td>1.107600e+04</td>\n",
       "      <td>11076.000000</td>\n",
       "      <td>11076.000000</td>\n",
       "      <td>11076.000000</td>\n",
       "      <td>11076.000000</td>\n",
       "    </tr>\n",
       "    <tr>\n",
       "      <th>mean</th>\n",
       "      <td>2.031043e+05</td>\n",
       "      <td>22.494583</td>\n",
       "      <td>0.289906</td>\n",
       "      <td>0.096334</td>\n",
       "      <td>0.014807</td>\n",
       "    </tr>\n",
       "    <tr>\n",
       "      <th>std</th>\n",
       "      <td>1.086731e+06</td>\n",
       "      <td>6.918974</td>\n",
       "      <td>0.453739</td>\n",
       "      <td>0.295063</td>\n",
       "      <td>0.120784</td>\n",
       "    </tr>\n",
       "    <tr>\n",
       "      <th>min</th>\n",
       "      <td>0.000000e+00</td>\n",
       "      <td>18.000000</td>\n",
       "      <td>0.000000</td>\n",
       "      <td>0.000000</td>\n",
       "      <td>0.000000</td>\n",
       "    </tr>\n",
       "    <tr>\n",
       "      <th>25%</th>\n",
       "      <td>5.760000e+02</td>\n",
       "      <td>21.000000</td>\n",
       "      <td>0.000000</td>\n",
       "      <td>0.000000</td>\n",
       "      <td>0.000000</td>\n",
       "    </tr>\n",
       "    <tr>\n",
       "      <th>50%</th>\n",
       "      <td>1.050000e+03</td>\n",
       "      <td>21.000000</td>\n",
       "      <td>0.000000</td>\n",
       "      <td>0.000000</td>\n",
       "      <td>0.000000</td>\n",
       "    </tr>\n",
       "    <tr>\n",
       "      <th>75%</th>\n",
       "      <td>1.539250e+03</td>\n",
       "      <td>22.000000</td>\n",
       "      <td>1.000000</td>\n",
       "      <td>0.000000</td>\n",
       "      <td>0.000000</td>\n",
       "    </tr>\n",
       "    <tr>\n",
       "      <th>max</th>\n",
       "      <td>9.000000e+06</td>\n",
       "      <td>75.000000</td>\n",
       "      <td>1.000000</td>\n",
       "      <td>1.000000</td>\n",
       "      <td>1.000000</td>\n",
       "    </tr>\n",
       "  </tbody>\n",
       "</table>\n",
       "</div>"
      ],
      "text/plain": [
       "                 id           age   accessories    nailPolish  irregularities\n",
       "count  1.107600e+04  11076.000000  11076.000000  11076.000000    11076.000000\n",
       "mean   2.031043e+05     22.494583      0.289906      0.096334        0.014807\n",
       "std    1.086731e+06      6.918974      0.453739      0.295063        0.120784\n",
       "min    0.000000e+00     18.000000      0.000000      0.000000        0.000000\n",
       "25%    5.760000e+02     21.000000      0.000000      0.000000        0.000000\n",
       "50%    1.050000e+03     21.000000      0.000000      0.000000        0.000000\n",
       "75%    1.539250e+03     22.000000      1.000000      0.000000        0.000000\n",
       "max    9.000000e+06     75.000000      1.000000      1.000000        1.000000"
      ]
     },
     "execution_count": 4,
     "metadata": {},
     "output_type": "execute_result"
    }
   ],
   "source": [
    "handinfo.describe()"
   ]
  },
  {
   "cell_type": "code",
   "execution_count": 5,
   "metadata": {},
   "outputs": [
    {
     "name": "stdout",
     "output_type": "stream",
     "text": [
      "<class 'pandas.core.frame.DataFrame'>\n",
      "RangeIndex: 11076 entries, 0 to 11075\n",
      "Data columns (total 9 columns):\n",
      " #   Column          Non-Null Count  Dtype \n",
      "---  ------          --------------  ----- \n",
      " 0   id              11076 non-null  int64 \n",
      " 1   age             11076 non-null  int64 \n",
      " 2   gender          11076 non-null  object\n",
      " 3   skinColor       11076 non-null  object\n",
      " 4   accessories     11076 non-null  int64 \n",
      " 5   nailPolish      11076 non-null  int64 \n",
      " 6   aspectOfHand    11076 non-null  object\n",
      " 7   imageName       11076 non-null  object\n",
      " 8   irregularities  11076 non-null  int64 \n",
      "dtypes: int64(5), object(4)\n",
      "memory usage: 778.9+ KB\n"
     ]
    }
   ],
   "source": [
    "handinfo.info()"
   ]
  },
  {
   "cell_type": "code",
   "execution_count": 6,
   "metadata": {},
   "outputs": [
    {
     "data": {
      "text/plain": [
       "id                0\n",
       "age               0\n",
       "gender            0\n",
       "skinColor         0\n",
       "accessories       0\n",
       "nailPolish        0\n",
       "aspectOfHand      0\n",
       "imageName         0\n",
       "irregularities    0\n",
       "dtype: int64"
      ]
     },
     "execution_count": 6,
     "metadata": {},
     "output_type": "execute_result"
    }
   ],
   "source": [
    "handinfo.isnull().sum()"
   ]
  },
  {
   "cell_type": "code",
   "execution_count": 7,
   "metadata": {},
   "outputs": [
    {
     "data": {
      "text/plain": [
       "dorsal right    2892\n",
       "palmar right    2813\n",
       "dorsal left     2788\n",
       "palmar left     2583\n",
       "Name: aspectOfHand, dtype: int64"
      ]
     },
     "execution_count": 7,
     "metadata": {},
     "output_type": "execute_result"
    }
   ],
   "source": [
    "handinfo.aspectOfHand.value_counts()"
   ]
  },
  {
   "cell_type": "markdown",
   "metadata": {},
   "source": [
    "### dorsal 과 palmar 의 구성 비율 pie chart"
   ]
  },
  {
   "cell_type": "code",
   "execution_count": 8,
   "metadata": {
    "scrolled": true
   },
   "outputs": [
    {
     "data": {
      "image/png": "[encoded data removed]",
      "text/plain": [
       "<Figure size 432x288 with 1 Axes>"
      ]
     },
     "metadata": {},
     "output_type": "display_data"
    }
   ],
   "source": [
    "plt.pie(handinfo.aspectOfHand.value_counts(), autopct='%.2f%%')\n",
    "plt.legend(['dorsal right','palmar right','dorsal left','palmar left'], loc='lower right', bbox_to_anchor=(1.5, 0))\n",
    "plt.title('Aspect of Hand')\n",
    "plt.show()"
   ]
  },
  {
   "cell_type": "markdown",
   "metadata": {},
   "source": [
    "### 인종, 나이대, 성별 등에 따른 EDA"
   ]
  },
  {
   "cell_type": "code",
   "execution_count": 9,
   "metadata": {},
   "outputs": [
    {
     "data": {
      "text/plain": [
       "21    4930\n",
       "22    2434\n",
       "20    1935\n",
       "23     795\n",
       "27     133\n",
       "26     124\n",
       "24      97\n",
       "70      84\n",
       "75      83\n",
       "25      81\n",
       "19      78\n",
       "28      63\n",
       "54      52\n",
       "18      48\n",
       "43      46\n",
       "29      40\n",
       "36      28\n",
       "30      25\n",
       "Name: age, dtype: int64"
      ]
     },
     "execution_count": 9,
     "metadata": {},
     "output_type": "execute_result"
    }
   ],
   "source": [
    "handinfo.age.value_counts()"
   ]
  },
  {
   "cell_type": "code",
   "execution_count": 10,
   "metadata": {
    "scrolled": true
   },
   "outputs": [
    {
     "data": {
      "text/plain": [
       "<BarContainer object of 18 artists>"
      ]
     },
     "execution_count": 10,
     "metadata": {},
     "output_type": "execute_result"
    },
    {
     "data": {
      "image/png": "[encoded data removed]",
      "text/plain": [
       "<Figure size 432x288 with 1 Axes>"
      ]
     },
     "metadata": {},
     "output_type": "display_data"
    }
   ],
   "source": [
    "plt.bar(handinfo.age.value_counts().index,handinfo.age.value_counts().values)"
   ]
  },
  {
   "cell_type": "code",
   "execution_count": 11,
   "metadata": {
    "scrolled": true
   },
   "outputs": [
    {
     "data": {
      "text/plain": [
       "<BarContainer object of 2 artists>"
      ]
     },
     "execution_count": 11,
     "metadata": {},
     "output_type": "execute_result"
    },
    {
     "data": {
      "image/png": "[encoded data removed]",
      "text/plain": [
       "<Figure size 432x288 with 1 Axes>"
      ]
     },
     "metadata": {},
     "output_type": "display_data"
    }
   ],
   "source": [
    "plt.bar(handinfo.gender.value_counts().index,handinfo.gender.value_counts().values)"
   ]
  },
  {
   "cell_type": "code",
   "execution_count": 12,
   "metadata": {},
   "outputs": [
    {
     "data": {
      "text/plain": [
       "medium       6495\n",
       "fair         3493\n",
       "dark          758\n",
       "very fair     330\n",
       "Name: skinColor, dtype: int64"
      ]
     },
     "execution_count": 12,
     "metadata": {},
     "output_type": "execute_result"
    }
   ],
   "source": [
    "handinfo.skinColor.value_counts()"
   ]
  },
  {
   "cell_type": "code",
   "execution_count": 13,
   "metadata": {},
   "outputs": [
    {
     "data": {
      "image/png": "[encoded data removed]",
      "text/plain": [
       "<Figure size 432x288 with 1 Axes>"
      ]
     },
     "metadata": {},
     "output_type": "display_data"
    }
   ],
   "source": [
    "plt.pie(handinfo.skinColor.value_counts(), autopct='%.2f%%')\n",
    "plt.legend(['medium','fair','dark','very fair'], loc='lower right', bbox_to_anchor=(1.5, 0))\n",
    "plt.title('Skin Color')\n",
    "plt.show()"
   ]
  },
  {
   "cell_type": "markdown",
   "metadata": {},
   "source": [
    "### 혈위 별 이미지 개수 count -> bar chart"
   ]
  },
  {
   "cell_type": "code",
   "execution_count": 14,
   "metadata": {},
   "outputs": [],
   "source": [
    "import os\n",
    "def search(dirname):\n",
    "    filenames = os.listdir(dirname)\n",
    "    filename_list = []\n",
    "    for filename in filenames:\n",
    "        full_filename = os.path.join('', filename)\n",
    "        ext = os.path.splitext(full_filename)[-1]\n",
    "        if True: \n",
    "            filename_list.append(full_filename)\n",
    "    return(filename_list)"
   ]
  },
  {
   "cell_type": "code",
   "execution_count": 15,
   "metadata": {},
   "outputs": [],
   "source": [
    "gwanchung_dorsal_left = len(search('./gwanchung/gwanchung/gwanchung_dorsal_left/'))\n",
    "gwanchung_dorsal_right = len(search('./gwanchung/gwanchung/gwanchung_dorsal_right/'))\n",
    "\n",
    "hapgok_dorsal_left = len(search('./hapgok/hapgok/hapgok_dorsal_left/'))\n",
    "hapgok_dorsal_right = len(search('./hapgok/hapgok/hapgok_dorsal_right/'))\n",
    "\n",
    "hugye_dorsal_left = len(search('./hugye/hugye/hugye_dorsal_left/'))\n",
    "hugye_dorsal_right = len(search('./hugye/hugye/hugye_dorsal_right/'))\n",
    "\n",
    "nogung_palmar_left = len(search('./nogung/nogung/nogung_palmar_left/'))\n",
    "nogung_palmar_right = len(search('./nogung/nogung/nogung_palmar_right/'))\n",
    "\n",
    "sangyang_dorsal_left = len(search('./sangyang/sangyang/sangyang_dorsal_left/'))\n",
    "sangyang_dorsal_right = len(search('./sangyang/sangyang/sangyang_dorsal_right/'))\n",
    "\n",
    "shinmoom_palmar_left = len(search('./shinmoom/shinmoom/shinmoon_palmar_left/'))\n",
    "shinmoom_palmar_right = len(search('./shinmoom/shinmoom/shinmoon_palmar_right/'))\n",
    "\n",
    "sobu_palmar_left = len(search('./sobu/left/org_qc/'))\n",
    "sobu_palmar_right = len(search('./sobu/right/org_qc/'))\n",
    "\n",
    "sochung_dorsal_left = len(search('./sochung/sochung/sochung_dorsal_left/'))\n",
    "sochung_dorsal_right = len(search('./sochung/sochung/sochung_dorsal_right/'))\n",
    "\n",
    "sotack_dorsal_left = len(search('./sotack/sotack/sotack_dorsal_left/'))\n",
    "sotack_dorsal_right = len(search('./sotack/sotack/sotack_dorsal_right/'))\n",
    "\n",
    "taeyeon_palmar_left = len(search('./taeyeon/taeyeon/taeyeon_palmar_left/'))\n",
    "taeyeon_palmar_right = len(search('./taeyeon/taeyeon/taeyeon_palmar_right/'))\n",
    "\n",
    "urjae_palmar_left = len(search('./urjae/urjae/urjae_palmar_left/'))\n",
    "urjae_palmar_right = len(search('./urjae/urjae/urjae_palmar_right/'))"
   ]
  },
  {
   "cell_type": "code",
   "execution_count": 16,
   "metadata": {},
   "outputs": [],
   "source": [
    "acup_name_list = ['gwanchung_dorsal_left', 'gwanchung_dorsal_right', 'hapgok_dorsal_left', 'hapgok_dorsal_right', 'hugye_dorsal_left', 'hugye_dorsal_right', 'nogung_palmar_left', 'nogung_palmar_right', 'sangyang_dorsal_left', 'sangyang_dorsal_right', 'shinmoom_palmar_left', 'shinmoom_palmar_right', 'sobu_palmar_left', 'sobu_palmar_right', 'sochung_dorsal_left', 'sochung_dorsal_right', 'sotack_dorsal_left', 'sotack_dorsal_right', 'taeyeon_palmar_left', 'taeyeon_palmar_right', 'urjae_palmar_left', 'urjae_palmar_right']\n",
    "acup_len = gwanchung_dorsal_left, gwanchung_dorsal_right, hapgok_dorsal_left, hapgok_dorsal_right, hugye_dorsal_left, hugye_dorsal_right, nogung_palmar_left, nogung_palmar_right, sangyang_dorsal_left, sangyang_dorsal_right, shinmoom_palmar_left, shinmoom_palmar_right, sobu_palmar_left, sobu_palmar_right, sochung_dorsal_left, sochung_dorsal_right, sotack_dorsal_left, sotack_dorsal_right, taeyeon_palmar_left, taeyeon_palmar_right, urjae_palmar_left, urjae_palmar_right\n",
    "acup_len = list(acup_len)"
   ]
  },
  {
   "cell_type": "code",
   "execution_count": 17,
   "metadata": {},
   "outputs": [
    {
     "data": {
      "text/plain": [
       "([0,\n",
       "  1,\n",
       "  2,\n",
       "  3,\n",
       "  4,\n",
       "  5,\n",
       "  6,\n",
       "  7,\n",
       "  8,\n",
       "  9,\n",
       "  10,\n",
       "  11,\n",
       "  12,\n",
       "  13,\n",
       "  14,\n",
       "  15,\n",
       "  16,\n",
       "  17,\n",
       "  18,\n",
       "  19,\n",
       "  20,\n",
       "  21],\n",
       " <a list of 22 Text major ticklabel objects>)"
      ]
     },
     "execution_count": 17,
     "metadata": {},
     "output_type": "execute_result"
    },
    {
     "data": {
      "image/png": "[encoded data removed]",
      "text/plain": [
       "<Figure size 720x576 with 1 Axes>"
      ]
     },
     "metadata": {},
     "output_type": "display_data"
    }
   ],
   "source": [
    "plt.figure(figsize=(10,8))\n",
    "plt.bar(acup_name_list,acup_len, width=0.5)\n",
    "plt.xticks(rotation=90) # when X tick labels are long"
   ]
  }
 ],
 "metadata": {
  "kernelspec": {
   "display_name": "Python 3",
   "language": "python",
   "name": "python3"
  },
  "language_info": {
   "codemirror_mode": {
    "name": "ipython",
    "version": 3
   },
   "file_extension": ".py",
   "mimetype": "text/x-python",
   "name": "python",
   "nbconvert_exporter": "python",
   "pygments_lexer": "ipython3",
   "version": "3.7.6"
  }
 },
 "nbformat": 4,
 "nbformat_minor": 4
}
