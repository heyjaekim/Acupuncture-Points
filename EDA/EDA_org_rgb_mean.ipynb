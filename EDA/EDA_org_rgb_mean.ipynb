{
  "nbformat": 4,
  "nbformat_minor": 0,
  "metadata": {
    "colab": {
      "name": "EDA_org_rgb_mean.ipynb",
      "provenance": [],
      "collapsed_sections": []
    },
    "kernelspec": {
      "name": "python3",
      "display_name": "Python 3"
    },
    "accelerator": "GPU"
  },
  "cells": [
    {
      "cell_type": "markdown",
      "metadata": {
        "id": "7xOriUBAVMq4",
        "colab_type": "text"
      },
      "source": [
        "## [EDA] RGB 채널 평균"
      ]
    },
    {
      "cell_type": "code",
      "metadata": {
        "id": "XSPeUI6kVMq6",
        "colab_type": "code",
        "colab": {}
      },
      "source": [
        "import numpy as np\n",
        "import pandas as pd\n",
        "import matplotlib.pyplot as plt\n",
        "plt.style.use('fivethirtyeight')"
      ],
      "execution_count": null,
      "outputs": []
    },
    {
      "cell_type": "code",
      "metadata": {
        "id": "zv-p30MKVuBG",
        "colab_type": "code",
        "colab": {
          "base_uri": "https://localhost:8080/",
          "height": 127
        },
        "outputId": "df1bcee6-24d4-49d8-f8c4-49dcca91e4d8"
      },
      "source": [
        "from google.colab import drive\n",
        "drive.mount('/content/gdrive')"
      ],
      "execution_count": null,
      "outputs": [
        {
          "output_type": "stream",
          "text": [
            "Go to this URL in a browser: https://accounts.google.com/o/oauth2/auth?client_id=947318989803-6bn6qk8qdgf4n4g3pfee6491hc0brc4i.apps.googleusercontent.com&redirect_uri=urn%3aietf%3awg%3aoauth%3a2.0%3aoob&scope=email%20https%3a%2f%2fwww.googleapis.com%2fauth%2fdocs.test%20https%3a%2f%2fwww.googleapis.com%2fauth%2fdrive%20https%3a%2f%2fwww.googleapis.com%2fauth%2fdrive.photos.readonly%20https%3a%2f%2fwww.googleapis.com%2fauth%2fpeopleapi.readonly&response_type=code\n",
            "\n",
            "Enter your authorization code:\n",
            "··········\n",
            "Mounted at /content/gdrive\n"
          ],
          "name": "stdout"
        }
      ]
    },
    {
      "cell_type": "code",
      "metadata": {
        "id": "EF9KGBfsVMrC",
        "colab_type": "code",
        "colab": {}
      },
      "source": [
        "handinfo =  pd.read_csv('/content/gdrive/My Drive/HandInfo.csv')"
      ],
      "execution_count": null,
      "outputs": []
    },
    {
      "cell_type": "code",
      "metadata": {
        "id": "tOWc7Ap9VMrI",
        "colab_type": "code",
        "colab": {
          "base_uri": "https://localhost:8080/",
          "height": 419
        },
        "outputId": "40900c53-4c8e-4da2-aaa1-666cf84d95da"
      },
      "source": [
        "handinfo"
      ],
      "execution_count": null,
      "outputs": [
        {
          "output_type": "execute_result",
          "data": {
            "text/html": [
              "<div>\n",
              "<style scoped>\n",
              "    .dataframe tbody tr th:only-of-type {\n",
              "        vertical-align: middle;\n",
              "    }\n",
              "\n",
              "    .dataframe tbody tr th {\n",
              "        vertical-align: top;\n",
              "    }\n",
              "\n",
              "    .dataframe thead th {\n",
              "        text-align: right;\n",
              "    }\n",
              "</style>\n",
              "<table border=\"1\" class=\"dataframe\">\n",
              "  <thead>\n",
              "    <tr style=\"text-align: right;\">\n",
              "      <th></th>\n",
              "      <th>id</th>\n",
              "      <th>age</th>\n",
              "      <th>gender</th>\n",
              "      <th>skinColor</th>\n",
              "      <th>accessories</th>\n",
              "      <th>nailPolish</th>\n",
              "      <th>aspectOfHand</th>\n",
              "      <th>imageName</th>\n",
              "      <th>irregularities</th>\n",
              "    </tr>\n",
              "  </thead>\n",
              "  <tbody>\n",
              "    <tr>\n",
              "      <th>0</th>\n",
              "      <td>0</td>\n",
              "      <td>27</td>\n",
              "      <td>male</td>\n",
              "      <td>fair</td>\n",
              "      <td>0</td>\n",
              "      <td>0</td>\n",
              "      <td>dorsal right</td>\n",
              "      <td>Hand_0000002.jpg</td>\n",
              "      <td>0</td>\n",
              "    </tr>\n",
              "    <tr>\n",
              "      <th>1</th>\n",
              "      <td>0</td>\n",
              "      <td>27</td>\n",
              "      <td>male</td>\n",
              "      <td>fair</td>\n",
              "      <td>0</td>\n",
              "      <td>0</td>\n",
              "      <td>dorsal right</td>\n",
              "      <td>Hand_0000003.jpg</td>\n",
              "      <td>0</td>\n",
              "    </tr>\n",
              "    <tr>\n",
              "      <th>2</th>\n",
              "      <td>0</td>\n",
              "      <td>27</td>\n",
              "      <td>male</td>\n",
              "      <td>fair</td>\n",
              "      <td>0</td>\n",
              "      <td>0</td>\n",
              "      <td>dorsal right</td>\n",
              "      <td>Hand_0000004.jpg</td>\n",
              "      <td>0</td>\n",
              "    </tr>\n",
              "    <tr>\n",
              "      <th>3</th>\n",
              "      <td>0</td>\n",
              "      <td>27</td>\n",
              "      <td>male</td>\n",
              "      <td>fair</td>\n",
              "      <td>0</td>\n",
              "      <td>0</td>\n",
              "      <td>dorsal right</td>\n",
              "      <td>Hand_0000005.jpg</td>\n",
              "      <td>0</td>\n",
              "    </tr>\n",
              "    <tr>\n",
              "      <th>4</th>\n",
              "      <td>0</td>\n",
              "      <td>27</td>\n",
              "      <td>male</td>\n",
              "      <td>fair</td>\n",
              "      <td>0</td>\n",
              "      <td>0</td>\n",
              "      <td>dorsal right</td>\n",
              "      <td>Hand_0000006.jpg</td>\n",
              "      <td>0</td>\n",
              "    </tr>\n",
              "    <tr>\n",
              "      <th>...</th>\n",
              "      <td>...</td>\n",
              "      <td>...</td>\n",
              "      <td>...</td>\n",
              "      <td>...</td>\n",
              "      <td>...</td>\n",
              "      <td>...</td>\n",
              "      <td>...</td>\n",
              "      <td>...</td>\n",
              "      <td>...</td>\n",
              "    </tr>\n",
              "    <tr>\n",
              "      <th>11071</th>\n",
              "      <td>1589</td>\n",
              "      <td>22</td>\n",
              "      <td>female</td>\n",
              "      <td>fair</td>\n",
              "      <td>0</td>\n",
              "      <td>0</td>\n",
              "      <td>palmar left</td>\n",
              "      <td>Hand_0011740.jpg</td>\n",
              "      <td>0</td>\n",
              "    </tr>\n",
              "    <tr>\n",
              "      <th>11072</th>\n",
              "      <td>1589</td>\n",
              "      <td>22</td>\n",
              "      <td>female</td>\n",
              "      <td>fair</td>\n",
              "      <td>0</td>\n",
              "      <td>0</td>\n",
              "      <td>palmar left</td>\n",
              "      <td>Hand_0011741.jpg</td>\n",
              "      <td>0</td>\n",
              "    </tr>\n",
              "    <tr>\n",
              "      <th>11073</th>\n",
              "      <td>1589</td>\n",
              "      <td>22</td>\n",
              "      <td>female</td>\n",
              "      <td>fair</td>\n",
              "      <td>0</td>\n",
              "      <td>0</td>\n",
              "      <td>palmar left</td>\n",
              "      <td>Hand_0011742.jpg</td>\n",
              "      <td>0</td>\n",
              "    </tr>\n",
              "    <tr>\n",
              "      <th>11074</th>\n",
              "      <td>1589</td>\n",
              "      <td>22</td>\n",
              "      <td>female</td>\n",
              "      <td>fair</td>\n",
              "      <td>0</td>\n",
              "      <td>0</td>\n",
              "      <td>palmar left</td>\n",
              "      <td>Hand_0011743.jpg</td>\n",
              "      <td>0</td>\n",
              "    </tr>\n",
              "    <tr>\n",
              "      <th>11075</th>\n",
              "      <td>1589</td>\n",
              "      <td>22</td>\n",
              "      <td>female</td>\n",
              "      <td>fair</td>\n",
              "      <td>0</td>\n",
              "      <td>0</td>\n",
              "      <td>palmar left</td>\n",
              "      <td>Hand_0011744.jpg</td>\n",
              "      <td>0</td>\n",
              "    </tr>\n",
              "  </tbody>\n",
              "</table>\n",
              "<p>11076 rows × 9 columns</p>\n",
              "</div>"
            ],
            "text/plain": [
              "         id  age  gender  ...  aspectOfHand         imageName  irregularities\n",
              "0         0   27    male  ...  dorsal right  Hand_0000002.jpg               0\n",
              "1         0   27    male  ...  dorsal right  Hand_0000003.jpg               0\n",
              "2         0   27    male  ...  dorsal right  Hand_0000004.jpg               0\n",
              "3         0   27    male  ...  dorsal right  Hand_0000005.jpg               0\n",
              "4         0   27    male  ...  dorsal right  Hand_0000006.jpg               0\n",
              "...     ...  ...     ...  ...           ...               ...             ...\n",
              "11071  1589   22  female  ...   palmar left  Hand_0011740.jpg               0\n",
              "11072  1589   22  female  ...   palmar left  Hand_0011741.jpg               0\n",
              "11073  1589   22  female  ...   palmar left  Hand_0011742.jpg               0\n",
              "11074  1589   22  female  ...   palmar left  Hand_0011743.jpg               0\n",
              "11075  1589   22  female  ...   palmar left  Hand_0011744.jpg               0\n",
              "\n",
              "[11076 rows x 9 columns]"
            ]
          },
          "metadata": {
            "tags": []
          },
          "execution_count": 4
        }
      ]
    },
    {
      "cell_type": "markdown",
      "metadata": {
        "id": "dLDUCn7HVMsK",
        "colab_type": "text"
      },
      "source": [
        "### RGB 채널 평균 EDA"
      ]
    },
    {
      "cell_type": "code",
      "metadata": {
        "id": "xAKRnV8zVMsL",
        "colab_type": "code",
        "colab": {}
      },
      "source": [
        "import os\n",
        "def search(dirname):\n",
        "    filenames = os.listdir(dirname)\n",
        "    filename_list = []\n",
        "    for filename in filenames:\n",
        "        full_filename = os.path.join('', filename)\n",
        "        ext = os.path.splitext(full_filename)[-1]\n",
        "        if ext == '.jpg': \n",
        "            filename_list.append(full_filename)\n",
        "    return(filename_list)"
      ],
      "execution_count": null,
      "outputs": []
    },
    {
      "cell_type": "code",
      "metadata": {
        "id": "TarjfZoaVMsQ",
        "colab_type": "code",
        "colab": {}
      },
      "source": [
        "imgInfo_dorsal_left_1200 = pd.DataFrame(search('/content/gdrive/My Drive/hand_1200X1200/dorsal_left_1200X1200/'),columns=['imgName'])"
      ],
      "execution_count": null,
      "outputs": []
    },
    {
      "cell_type": "code",
      "metadata": {
        "id": "QWlfEVhaVMsT",
        "colab_type": "code",
        "colab": {
          "base_uri": "https://localhost:8080/",
          "height": 419
        },
        "outputId": "ceaaf396-217c-4985-8eb5-3e7240ebcc21"
      },
      "source": [
        "imgInfo_dorsal_left_1200"
      ],
      "execution_count": null,
      "outputs": [
        {
          "output_type": "execute_result",
          "data": {
            "text/html": [
              "<div>\n",
              "<style scoped>\n",
              "    .dataframe tbody tr th:only-of-type {\n",
              "        vertical-align: middle;\n",
              "    }\n",
              "\n",
              "    .dataframe tbody tr th {\n",
              "        vertical-align: top;\n",
              "    }\n",
              "\n",
              "    .dataframe thead th {\n",
              "        text-align: right;\n",
              "    }\n",
              "</style>\n",
              "<table border=\"1\" class=\"dataframe\">\n",
              "  <thead>\n",
              "    <tr style=\"text-align: right;\">\n",
              "      <th></th>\n",
              "      <th>imgName</th>\n",
              "    </tr>\n",
              "  </thead>\n",
              "  <tbody>\n",
              "    <tr>\n",
              "      <th>0</th>\n",
              "      <td>Hand_0007277.jpg.jpg</td>\n",
              "    </tr>\n",
              "    <tr>\n",
              "      <th>1</th>\n",
              "      <td>Hand_0007279.jpg.jpg</td>\n",
              "    </tr>\n",
              "    <tr>\n",
              "      <th>2</th>\n",
              "      <td>Hand_0007276.jpg.jpg</td>\n",
              "    </tr>\n",
              "    <tr>\n",
              "      <th>3</th>\n",
              "      <td>Hand_0007445.jpg.jpg</td>\n",
              "    </tr>\n",
              "    <tr>\n",
              "      <th>4</th>\n",
              "      <td>Hand_0007450.jpg.jpg</td>\n",
              "    </tr>\n",
              "    <tr>\n",
              "      <th>...</th>\n",
              "      <td>...</td>\n",
              "    </tr>\n",
              "    <tr>\n",
              "      <th>2778</th>\n",
              "      <td>Hand_0003494.jpg.jpg</td>\n",
              "    </tr>\n",
              "    <tr>\n",
              "      <th>2779</th>\n",
              "      <td>Hand_0003446.jpg.jpg</td>\n",
              "    </tr>\n",
              "    <tr>\n",
              "      <th>2780</th>\n",
              "      <td>Hand_0003433.jpg.jpg</td>\n",
              "    </tr>\n",
              "    <tr>\n",
              "      <th>2781</th>\n",
              "      <td>Hand_0003444.jpg.jpg</td>\n",
              "    </tr>\n",
              "    <tr>\n",
              "      <th>2782</th>\n",
              "      <td>Hand_0003443.jpg.jpg</td>\n",
              "    </tr>\n",
              "  </tbody>\n",
              "</table>\n",
              "<p>2783 rows × 1 columns</p>\n",
              "</div>"
            ],
            "text/plain": [
              "                   imgName\n",
              "0     Hand_0007277.jpg.jpg\n",
              "1     Hand_0007279.jpg.jpg\n",
              "2     Hand_0007276.jpg.jpg\n",
              "3     Hand_0007445.jpg.jpg\n",
              "4     Hand_0007450.jpg.jpg\n",
              "...                    ...\n",
              "2778  Hand_0003494.jpg.jpg\n",
              "2779  Hand_0003446.jpg.jpg\n",
              "2780  Hand_0003433.jpg.jpg\n",
              "2781  Hand_0003444.jpg.jpg\n",
              "2782  Hand_0003443.jpg.jpg\n",
              "\n",
              "[2783 rows x 1 columns]"
            ]
          },
          "metadata": {
            "tags": []
          },
          "execution_count": 7
        }
      ]
    },
    {
      "cell_type": "code",
      "metadata": {
        "id": "3LqzT1BmYDXw",
        "colab_type": "code",
        "colab": {
          "base_uri": "https://localhost:8080/",
          "height": 419
        },
        "outputId": "25970168-4cd1-4bb1-9115-57b98f83985f"
      },
      "source": [
        "imgInfo_dorsal_left_1200['R'] = None\n",
        "imgInfo_dorsal_left_1200['G'] = None\n",
        "imgInfo_dorsal_left_1200['B'] = None\n",
        "imgInfo_dorsal_left_1200"
      ],
      "execution_count": null,
      "outputs": [
        {
          "output_type": "execute_result",
          "data": {
            "text/html": [
              "<div>\n",
              "<style scoped>\n",
              "    .dataframe tbody tr th:only-of-type {\n",
              "        vertical-align: middle;\n",
              "    }\n",
              "\n",
              "    .dataframe tbody tr th {\n",
              "        vertical-align: top;\n",
              "    }\n",
              "\n",
              "    .dataframe thead th {\n",
              "        text-align: right;\n",
              "    }\n",
              "</style>\n",
              "<table border=\"1\" class=\"dataframe\">\n",
              "  <thead>\n",
              "    <tr style=\"text-align: right;\">\n",
              "      <th></th>\n",
              "      <th>imgName</th>\n",
              "      <th>R</th>\n",
              "      <th>G</th>\n",
              "      <th>B</th>\n",
              "    </tr>\n",
              "  </thead>\n",
              "  <tbody>\n",
              "    <tr>\n",
              "      <th>0</th>\n",
              "      <td>Hand_0007277.jpg.jpg</td>\n",
              "      <td>None</td>\n",
              "      <td>None</td>\n",
              "      <td>None</td>\n",
              "    </tr>\n",
              "    <tr>\n",
              "      <th>1</th>\n",
              "      <td>Hand_0007279.jpg.jpg</td>\n",
              "      <td>None</td>\n",
              "      <td>None</td>\n",
              "      <td>None</td>\n",
              "    </tr>\n",
              "    <tr>\n",
              "      <th>2</th>\n",
              "      <td>Hand_0007276.jpg.jpg</td>\n",
              "      <td>None</td>\n",
              "      <td>None</td>\n",
              "      <td>None</td>\n",
              "    </tr>\n",
              "    <tr>\n",
              "      <th>3</th>\n",
              "      <td>Hand_0007445.jpg.jpg</td>\n",
              "      <td>None</td>\n",
              "      <td>None</td>\n",
              "      <td>None</td>\n",
              "    </tr>\n",
              "    <tr>\n",
              "      <th>4</th>\n",
              "      <td>Hand_0007450.jpg.jpg</td>\n",
              "      <td>None</td>\n",
              "      <td>None</td>\n",
              "      <td>None</td>\n",
              "    </tr>\n",
              "    <tr>\n",
              "      <th>...</th>\n",
              "      <td>...</td>\n",
              "      <td>...</td>\n",
              "      <td>...</td>\n",
              "      <td>...</td>\n",
              "    </tr>\n",
              "    <tr>\n",
              "      <th>2778</th>\n",
              "      <td>Hand_0003494.jpg.jpg</td>\n",
              "      <td>None</td>\n",
              "      <td>None</td>\n",
              "      <td>None</td>\n",
              "    </tr>\n",
              "    <tr>\n",
              "      <th>2779</th>\n",
              "      <td>Hand_0003446.jpg.jpg</td>\n",
              "      <td>None</td>\n",
              "      <td>None</td>\n",
              "      <td>None</td>\n",
              "    </tr>\n",
              "    <tr>\n",
              "      <th>2780</th>\n",
              "      <td>Hand_0003433.jpg.jpg</td>\n",
              "      <td>None</td>\n",
              "      <td>None</td>\n",
              "      <td>None</td>\n",
              "    </tr>\n",
              "    <tr>\n",
              "      <th>2781</th>\n",
              "      <td>Hand_0003444.jpg.jpg</td>\n",
              "      <td>None</td>\n",
              "      <td>None</td>\n",
              "      <td>None</td>\n",
              "    </tr>\n",
              "    <tr>\n",
              "      <th>2782</th>\n",
              "      <td>Hand_0003443.jpg.jpg</td>\n",
              "      <td>None</td>\n",
              "      <td>None</td>\n",
              "      <td>None</td>\n",
              "    </tr>\n",
              "  </tbody>\n",
              "</table>\n",
              "<p>2783 rows × 4 columns</p>\n",
              "</div>"
            ],
            "text/plain": [
              "                   imgName     R     G     B\n",
              "0     Hand_0007277.jpg.jpg  None  None  None\n",
              "1     Hand_0007279.jpg.jpg  None  None  None\n",
              "2     Hand_0007276.jpg.jpg  None  None  None\n",
              "3     Hand_0007445.jpg.jpg  None  None  None\n",
              "4     Hand_0007450.jpg.jpg  None  None  None\n",
              "...                    ...   ...   ...   ...\n",
              "2778  Hand_0003494.jpg.jpg  None  None  None\n",
              "2779  Hand_0003446.jpg.jpg  None  None  None\n",
              "2780  Hand_0003433.jpg.jpg  None  None  None\n",
              "2781  Hand_0003444.jpg.jpg  None  None  None\n",
              "2782  Hand_0003443.jpg.jpg  None  None  None\n",
              "\n",
              "[2783 rows x 4 columns]"
            ]
          },
          "metadata": {
            "tags": []
          },
          "execution_count": 8
        }
      ]
    },
    {
      "cell_type": "code",
      "metadata": {
        "id": "aaqxB5zYYUv8",
        "colab_type": "code",
        "colab": {
          "base_uri": "https://localhost:8080/",
          "height": 35
        },
        "outputId": "6915bb59-7650-4b95-d5ff-ad3e70f8710e"
      },
      "source": [
        "plt.imread('/content/gdrive/My Drive/hand_1200X1200/dorsal_left_1200X1200/'+imgInfo_dorsal_left_1200.imgName.values[0])[:,:,0].mean()"
      ],
      "execution_count": null,
      "outputs": [
        {
          "output_type": "execute_result",
          "data": {
            "text/plain": [
              "245.93989305555556"
            ]
          },
          "metadata": {
            "tags": []
          },
          "execution_count": 9
        }
      ]
    },
    {
      "cell_type": "code",
      "metadata": {
        "id": "qxQ__bWwVMsh",
        "colab_type": "code",
        "colab": {}
      },
      "source": [
        "for i in range(len(imgInfo_dorsal_left_1200)):\n",
        "    imgInfo_dorsal_left_1200['R'][i] = plt.imread('/content/gdrive/My Drive/hand_1200X1200/dorsal_left_1200X1200/'+imgInfo_dorsal_left_1200.imgName.values[i])[:,:,0].mean()\n",
        "    imgInfo_dorsal_left_1200['G'][i] = plt.imread('/content/gdrive/My Drive/hand_1200X1200/dorsal_left_1200X1200/'+imgInfo_dorsal_left_1200.imgName.values[i])[:,:,1].mean()\n",
        "    imgInfo_dorsal_left_1200['B'][i] = plt.imread('/content/gdrive/My Drive/hand_1200X1200/dorsal_left_1200X1200/'+imgInfo_dorsal_left_1200.imgName.values[i])[:,:,2].mean()"
      ],
      "execution_count": null,
      "outputs": []
    },
    {
      "cell_type": "code",
      "metadata": {
        "id": "Ag0zMO15TpDZ",
        "colab_type": "code",
        "colab": {}
      },
      "source": [
        "imgInfo_dorsal_right_1200 = pd.DataFrame(search('/content/gdrive/My Drive/hand_1200X1200/dorsal_right_1200X1200/'),columns=['imgName'])\n",
        "imgInfo_dorsal_right_1200['R'] = None\n",
        "imgInfo_dorsal_right_1200['G'] = None\n",
        "imgInfo_dorsal_right_1200['B'] = None"
      ],
      "execution_count": null,
      "outputs": []
    },
    {
      "cell_type": "code",
      "metadata": {
        "id": "NYDVVzpuX9jW",
        "colab_type": "code",
        "colab": {}
      },
      "source": [
        "for i in range(len(imgInfo_dorsal_right_1200)):\n",
        "    imgInfo_dorsal_right_1200['R'][i] = plt.imread('/content/gdrive/My Drive/hand_1200X1200/dorsal_right_1200X1200/'+imgInfo_dorsal_right_1200.imgName.values[i])[:,:,0].mean()\n",
        "    imgInfo_dorsal_right_1200['G'][i] = plt.imread('/content/gdrive/My Drive/hand_1200X1200/dorsal_right_1200X1200/'+imgInfo_dorsal_right_1200.imgName.values[i])[:,:,1].mean()\n",
        "    imgInfo_dorsal_right_1200['B'][i] = plt.imread('/content/gdrive/My Drive/hand_1200X1200/dorsal_right_1200X1200/'+imgInfo_dorsal_right_1200.imgName.values[i])[:,:,2].mean()"
      ],
      "execution_count": null,
      "outputs": []
    },
    {
      "cell_type": "code",
      "metadata": {
        "id": "YTpzr43cYHZT",
        "colab_type": "code",
        "colab": {}
      },
      "source": [
        "imgInfo_palmar_left_1200 = pd.DataFrame(search('/content/gdrive/My Drive/hand_1200X1200/palmar_left_1200X1200/'),columns=['imgName'])\n",
        "imgInfo_palmar_left_1200['R'] = None\n",
        "imgInfo_palmar_left_1200['G'] = None\n",
        "imgInfo_palmar_left_1200['B'] = None\n",
        "\n",
        "for i in range(len(imgInfo_palmar_left_1200)):\n",
        "    imgInfo_palmar_left_1200['R'][i] = plt.imread('/content/gdrive/My Drive/hand_1200X1200/palmar_left_1200X1200/'+imgInfo_palmar_left_1200.imgName.values[i])[:,:,0].mean()\n",
        "    imgInfo_palmar_left_1200['G'][i] = plt.imread('/content/gdrive/My Drive/hand_1200X1200/palmar_left_1200X1200/'+imgInfo_palmar_left_1200.imgName.values[i])[:,:,1].mean()\n",
        "    imgInfo_palmar_left_1200['B'][i] = plt.imread('/content/gdrive/My Drive/hand_1200X1200/palmar_left_1200X1200/'+imgInfo_palmar_left_1200.imgName.values[i])[:,:,2].mean()"
      ],
      "execution_count": null,
      "outputs": []
    },
    {
      "cell_type": "code",
      "metadata": {
        "id": "JkpiEEVDYf1j",
        "colab_type": "code",
        "colab": {}
      },
      "source": [
        "imgInfo_palmar_right_1200 = pd.DataFrame(search('/content/gdrive/My Drive/hand_1200X1200/palmar_right_1200X1200/'),columns=['imgName'])\n",
        "imgInfo_palmar_right_1200['R'] = None\n",
        "imgInfo_palmar_right_1200['G'] = None\n",
        "imgInfo_palmar_right_1200['B'] = None\n",
        "\n",
        "for i in range(len(imgInfo_palmar_left_1200)):\n",
        "    imgInfo_palmar_right_1200['R'][i] = plt.imread('/content/gdrive/My Drive/hand_1200X1200/palmar_right_1200X1200/'+imgInfo_palmar_right_1200.imgName.values[i])[:,:,0].mean()\n",
        "    imgInfo_palmar_right_1200['G'][i] = plt.imread('/content/gdrive/My Drive/hand_1200X1200/palmar_right_1200X1200/'+imgInfo_palmar_right_1200.imgName.values[i])[:,:,1].mean()\n",
        "    imgInfo_palmar_right_1200['B'][i] = plt.imread('/content/gdrive/My Drive/hand_1200X1200/palmar_right_1200X1200/'+imgInfo_palmar_right_1200.imgName.values[i])[:,:,2].mean()"
      ],
      "execution_count": null,
      "outputs": []
    },
    {
      "cell_type": "code",
      "metadata": {
        "id": "sKTEKI9nYxPD",
        "colab_type": "code",
        "colab": {}
      },
      "source": [
        "imgInfo = imgInfo_dorsal_left_1200.append(imgInfo_dorsal_right_1200).append(imgInfo_palmar_left_1200).append(imgInfo_palmar_right_1200)"
      ],
      "execution_count": null,
      "outputs": []
    },
    {
      "cell_type": "code",
      "metadata": {
        "id": "Us5xSc13gyBE",
        "colab_type": "code",
        "colab": {
          "base_uri": "https://localhost:8080/",
          "height": 204
        },
        "outputId": "b47f967c-e67d-463a-e217-c9484930a2ed"
      },
      "source": [
        "imgInfo.head()"
      ],
      "execution_count": null,
      "outputs": [
        {
          "output_type": "execute_result",
          "data": {
            "text/html": [
              "<div>\n",
              "<style scoped>\n",
              "    .dataframe tbody tr th:only-of-type {\n",
              "        vertical-align: middle;\n",
              "    }\n",
              "\n",
              "    .dataframe tbody tr th {\n",
              "        vertical-align: top;\n",
              "    }\n",
              "\n",
              "    .dataframe thead th {\n",
              "        text-align: right;\n",
              "    }\n",
              "</style>\n",
              "<table border=\"1\" class=\"dataframe\">\n",
              "  <thead>\n",
              "    <tr style=\"text-align: right;\">\n",
              "      <th></th>\n",
              "      <th>imgName</th>\n",
              "      <th>R</th>\n",
              "      <th>G</th>\n",
              "      <th>B</th>\n",
              "    </tr>\n",
              "  </thead>\n",
              "  <tbody>\n",
              "    <tr>\n",
              "      <th>0</th>\n",
              "      <td>Hand_0007277.jpg.jpg</td>\n",
              "      <td>245.94</td>\n",
              "      <td>236.436</td>\n",
              "      <td>231.743</td>\n",
              "    </tr>\n",
              "    <tr>\n",
              "      <th>1</th>\n",
              "      <td>Hand_0007279.jpg.jpg</td>\n",
              "      <td>245.764</td>\n",
              "      <td>236.234</td>\n",
              "      <td>231.47</td>\n",
              "    </tr>\n",
              "    <tr>\n",
              "      <th>2</th>\n",
              "      <td>Hand_0007276.jpg.jpg</td>\n",
              "      <td>246.081</td>\n",
              "      <td>236.606</td>\n",
              "      <td>232.152</td>\n",
              "    </tr>\n",
              "    <tr>\n",
              "      <th>3</th>\n",
              "      <td>Hand_0007445.jpg.jpg</td>\n",
              "      <td>239.299</td>\n",
              "      <td>228.628</td>\n",
              "      <td>221.236</td>\n",
              "    </tr>\n",
              "    <tr>\n",
              "      <th>4</th>\n",
              "      <td>Hand_0007450.jpg.jpg</td>\n",
              "      <td>242.463</td>\n",
              "      <td>232.853</td>\n",
              "      <td>226.036</td>\n",
              "    </tr>\n",
              "  </tbody>\n",
              "</table>\n",
              "</div>"
            ],
            "text/plain": [
              "                imgName        R        G        B\n",
              "0  Hand_0007277.jpg.jpg   245.94  236.436  231.743\n",
              "1  Hand_0007279.jpg.jpg  245.764  236.234   231.47\n",
              "2  Hand_0007276.jpg.jpg  246.081  236.606  232.152\n",
              "3  Hand_0007445.jpg.jpg  239.299  228.628  221.236\n",
              "4  Hand_0007450.jpg.jpg  242.463  232.853  226.036"
            ]
          },
          "metadata": {
            "tags": []
          },
          "execution_count": 16
        }
      ]
    },
    {
      "cell_type": "code",
      "metadata": {
        "id": "7Y4jtdF1g68a",
        "colab_type": "code",
        "colab": {
          "base_uri": "https://localhost:8080/",
          "height": 173
        },
        "outputId": "babb17f4-cde5-49bc-ad0c-21057d4d2c0f"
      },
      "source": [
        "imgInfo.describe()"
      ],
      "execution_count": null,
      "outputs": [
        {
          "output_type": "execute_result",
          "data": {
            "text/html": [
              "<div>\n",
              "<style scoped>\n",
              "    .dataframe tbody tr th:only-of-type {\n",
              "        vertical-align: middle;\n",
              "    }\n",
              "\n",
              "    .dataframe tbody tr th {\n",
              "        vertical-align: top;\n",
              "    }\n",
              "\n",
              "    .dataframe thead th {\n",
              "        text-align: right;\n",
              "    }\n",
              "</style>\n",
              "<table border=\"1\" class=\"dataframe\">\n",
              "  <thead>\n",
              "    <tr style=\"text-align: right;\">\n",
              "      <th></th>\n",
              "      <th>imgName</th>\n",
              "      <th>R</th>\n",
              "      <th>G</th>\n",
              "      <th>B</th>\n",
              "    </tr>\n",
              "  </thead>\n",
              "  <tbody>\n",
              "    <tr>\n",
              "      <th>count</th>\n",
              "      <td>11041</td>\n",
              "      <td>10828.000000</td>\n",
              "      <td>10828.000000</td>\n",
              "      <td>10828.000000</td>\n",
              "    </tr>\n",
              "    <tr>\n",
              "      <th>unique</th>\n",
              "      <td>11041</td>\n",
              "      <td>10823.000000</td>\n",
              "      <td>10826.000000</td>\n",
              "      <td>10826.000000</td>\n",
              "    </tr>\n",
              "    <tr>\n",
              "      <th>top</th>\n",
              "      <td>Hand_0009677.jpg.jpg</td>\n",
              "      <td>220.276286</td>\n",
              "      <td>228.447374</td>\n",
              "      <td>213.356039</td>\n",
              "    </tr>\n",
              "    <tr>\n",
              "      <th>freq</th>\n",
              "      <td>1</td>\n",
              "      <td>2.000000</td>\n",
              "      <td>2.000000</td>\n",
              "      <td>2.000000</td>\n",
              "    </tr>\n",
              "  </tbody>\n",
              "</table>\n",
              "</div>"
            ],
            "text/plain": [
              "                     imgName             R             G             B\n",
              "count                  11041  10828.000000  10828.000000  10828.000000\n",
              "unique                 11041  10823.000000  10826.000000  10826.000000\n",
              "top     Hand_0009677.jpg.jpg    220.276286    228.447374    213.356039\n",
              "freq                       1      2.000000      2.000000      2.000000"
            ]
          },
          "metadata": {
            "tags": []
          },
          "execution_count": 19
        }
      ]
    },
    {
      "cell_type": "code",
      "metadata": {
        "id": "Vl9Ik19wi8Um",
        "colab_type": "code",
        "colab": {
          "base_uri": "https://localhost:8080/",
          "height": 215
        },
        "outputId": "51d83e61-a599-45c8-db64-7427afa1c498"
      },
      "source": [
        "imgInfo.info()"
      ],
      "execution_count": null,
      "outputs": [
        {
          "output_type": "stream",
          "text": [
            "<class 'pandas.core.frame.DataFrame'>\n",
            "Int64Index: 11041 entries, 0 to 2789\n",
            "Data columns (total 4 columns):\n",
            " #   Column   Non-Null Count  Dtype \n",
            "---  ------   --------------  ----- \n",
            " 0   imgName  11041 non-null  object\n",
            " 1   R        10828 non-null  object\n",
            " 2   G        10828 non-null  object\n",
            " 3   B        10828 non-null  object\n",
            "dtypes: object(4)\n",
            "memory usage: 431.3+ KB\n"
          ],
          "name": "stdout"
        }
      ]
    },
    {
      "cell_type": "code",
      "metadata": {
        "id": "bJWFa5D7i_nc",
        "colab_type": "code",
        "colab": {
          "base_uri": "https://localhost:8080/",
          "height": 233
        },
        "outputId": "94da4c35-1006-4abd-9c20-de250afc82dc"
      },
      "source": [
        "imgInfo.pop('imgName')"
      ],
      "execution_count": null,
      "outputs": [
        {
          "output_type": "execute_result",
          "data": {
            "text/plain": [
              "0       Hand_0007277.jpg.jpg\n",
              "1       Hand_0007279.jpg.jpg\n",
              "2       Hand_0007276.jpg.jpg\n",
              "3       Hand_0007445.jpg.jpg\n",
              "4       Hand_0007450.jpg.jpg\n",
              "                ...         \n",
              "2785    Hand_0003866.jpg.jpg\n",
              "2786    Hand_0003855.jpg.jpg\n",
              "2787    Hand_0003864.jpg.jpg\n",
              "2788    Hand_0003794.jpg.jpg\n",
              "2789    Hand_0003795.jpg.jpg\n",
              "Name: imgName, Length: 11041, dtype: object"
            ]
          },
          "metadata": {
            "tags": []
          },
          "execution_count": 27
        }
      ]
    },
    {
      "cell_type": "code",
      "metadata": {
        "id": "utU9tMOrjh76",
        "colab_type": "code",
        "colab": {
          "base_uri": "https://localhost:8080/",
          "height": 297
        },
        "outputId": "d4465d3d-7e0d-4ccd-bb2d-3759ec412687"
      },
      "source": [
        "imgInfo.astype('float').describe()"
      ],
      "execution_count": null,
      "outputs": [
        {
          "output_type": "execute_result",
          "data": {
            "text/html": [
              "<div>\n",
              "<style scoped>\n",
              "    .dataframe tbody tr th:only-of-type {\n",
              "        vertical-align: middle;\n",
              "    }\n",
              "\n",
              "    .dataframe tbody tr th {\n",
              "        vertical-align: top;\n",
              "    }\n",
              "\n",
              "    .dataframe thead th {\n",
              "        text-align: right;\n",
              "    }\n",
              "</style>\n",
              "<table border=\"1\" class=\"dataframe\">\n",
              "  <thead>\n",
              "    <tr style=\"text-align: right;\">\n",
              "      <th></th>\n",
              "      <th>R</th>\n",
              "      <th>G</th>\n",
              "      <th>B</th>\n",
              "    </tr>\n",
              "  </thead>\n",
              "  <tbody>\n",
              "    <tr>\n",
              "      <th>count</th>\n",
              "      <td>10828.000000</td>\n",
              "      <td>10828.000000</td>\n",
              "      <td>10828.000000</td>\n",
              "    </tr>\n",
              "    <tr>\n",
              "      <th>mean</th>\n",
              "      <td>235.545596</td>\n",
              "      <td>221.104565</td>\n",
              "      <td>212.530589</td>\n",
              "    </tr>\n",
              "    <tr>\n",
              "      <th>std</th>\n",
              "      <td>10.109943</td>\n",
              "      <td>11.201494</td>\n",
              "      <td>12.466320</td>\n",
              "    </tr>\n",
              "    <tr>\n",
              "      <th>min</th>\n",
              "      <td>197.682431</td>\n",
              "      <td>175.887436</td>\n",
              "      <td>165.216646</td>\n",
              "    </tr>\n",
              "    <tr>\n",
              "      <th>25%</th>\n",
              "      <td>230.065044</td>\n",
              "      <td>215.009826</td>\n",
              "      <td>205.223452</td>\n",
              "    </tr>\n",
              "    <tr>\n",
              "      <th>50%</th>\n",
              "      <td>237.749454</td>\n",
              "      <td>223.632566</td>\n",
              "      <td>214.580898</td>\n",
              "    </tr>\n",
              "    <tr>\n",
              "      <th>75%</th>\n",
              "      <td>243.332925</td>\n",
              "      <td>229.470862</td>\n",
              "      <td>221.973381</td>\n",
              "    </tr>\n",
              "    <tr>\n",
              "      <th>max</th>\n",
              "      <td>252.142682</td>\n",
              "      <td>242.113988</td>\n",
              "      <td>237.426650</td>\n",
              "    </tr>\n",
              "  </tbody>\n",
              "</table>\n",
              "</div>"
            ],
            "text/plain": [
              "                  R             G             B\n",
              "count  10828.000000  10828.000000  10828.000000\n",
              "mean     235.545596    221.104565    212.530589\n",
              "std       10.109943     11.201494     12.466320\n",
              "min      197.682431    175.887436    165.216646\n",
              "25%      230.065044    215.009826    205.223452\n",
              "50%      237.749454    223.632566    214.580898\n",
              "75%      243.332925    229.470862    221.973381\n",
              "max      252.142682    242.113988    237.426650"
            ]
          },
          "metadata": {
            "tags": []
          },
          "execution_count": 33
        }
      ]
    },
    {
      "cell_type": "code",
      "metadata": {
        "id": "rgb74a41kxVt",
        "colab_type": "code",
        "colab": {}
      },
      "source": [
        "imgInfo_dorsal_left_1200.pop('imgName')"
      ],
      "execution_count": null,
      "outputs": []
    },
    {
      "cell_type": "code",
      "metadata": {
        "id": "mj4kBx-LmhTf",
        "colab_type": "code",
        "colab": {
          "base_uri": "https://localhost:8080/",
          "height": 297
        },
        "outputId": "4ed4e4de-6756-40a8-8fb2-2fff9a925899"
      },
      "source": [
        "imgInfo_dorsal_left_1200.astype('float').describe()"
      ],
      "execution_count": null,
      "outputs": [
        {
          "output_type": "execute_result",
          "data": {
            "text/html": [
              "<div>\n",
              "<style scoped>\n",
              "    .dataframe tbody tr th:only-of-type {\n",
              "        vertical-align: middle;\n",
              "    }\n",
              "\n",
              "    .dataframe tbody tr th {\n",
              "        vertical-align: top;\n",
              "    }\n",
              "\n",
              "    .dataframe thead th {\n",
              "        text-align: right;\n",
              "    }\n",
              "</style>\n",
              "<table border=\"1\" class=\"dataframe\">\n",
              "  <thead>\n",
              "    <tr style=\"text-align: right;\">\n",
              "      <th></th>\n",
              "      <th>R</th>\n",
              "      <th>G</th>\n",
              "      <th>B</th>\n",
              "    </tr>\n",
              "  </thead>\n",
              "  <tbody>\n",
              "    <tr>\n",
              "      <th>count</th>\n",
              "      <td>2783.000000</td>\n",
              "      <td>2783.000000</td>\n",
              "      <td>2783.000000</td>\n",
              "    </tr>\n",
              "    <tr>\n",
              "      <th>mean</th>\n",
              "      <td>231.920229</td>\n",
              "      <td>217.903124</td>\n",
              "      <td>208.220643</td>\n",
              "    </tr>\n",
              "    <tr>\n",
              "      <th>std</th>\n",
              "      <td>9.876699</td>\n",
              "      <td>11.280245</td>\n",
              "      <td>12.241216</td>\n",
              "    </tr>\n",
              "    <tr>\n",
              "      <th>min</th>\n",
              "      <td>197.682431</td>\n",
              "      <td>175.887436</td>\n",
              "      <td>165.216646</td>\n",
              "    </tr>\n",
              "    <tr>\n",
              "      <th>25%</th>\n",
              "      <td>226.769239</td>\n",
              "      <td>212.724149</td>\n",
              "      <td>202.171067</td>\n",
              "    </tr>\n",
              "    <tr>\n",
              "      <th>50%</th>\n",
              "      <td>234.276226</td>\n",
              "      <td>220.065643</td>\n",
              "      <td>210.178010</td>\n",
              "    </tr>\n",
              "    <tr>\n",
              "      <th>75%</th>\n",
              "      <td>239.097454</td>\n",
              "      <td>226.307535</td>\n",
              "      <td>216.985361</td>\n",
              "    </tr>\n",
              "    <tr>\n",
              "      <th>max</th>\n",
              "      <td>252.142682</td>\n",
              "      <td>241.133461</td>\n",
              "      <td>235.955510</td>\n",
              "    </tr>\n",
              "  </tbody>\n",
              "</table>\n",
              "</div>"
            ],
            "text/plain": [
              "                 R            G            B\n",
              "count  2783.000000  2783.000000  2783.000000\n",
              "mean    231.920229   217.903124   208.220643\n",
              "std       9.876699    11.280245    12.241216\n",
              "min     197.682431   175.887436   165.216646\n",
              "25%     226.769239   212.724149   202.171067\n",
              "50%     234.276226   220.065643   210.178010\n",
              "75%     239.097454   226.307535   216.985361\n",
              "max     252.142682   241.133461   235.955510"
            ]
          },
          "metadata": {
            "tags": []
          },
          "execution_count": 39
        }
      ]
    },
    {
      "cell_type": "code",
      "metadata": {
        "id": "zymIBleumn2C",
        "colab_type": "code",
        "colab": {
          "base_uri": "https://localhost:8080/",
          "height": 297
        },
        "outputId": "dd0114c1-47ff-4f8f-bcea-2ef19d65ef47"
      },
      "source": [
        "imgInfo_dorsal_right_1200.pop('imgName')\n",
        "imgInfo_dorsal_right_1200.astype('float').describe()"
      ],
      "execution_count": null,
      "outputs": [
        {
          "output_type": "execute_result",
          "data": {
            "text/html": [
              "<div>\n",
              "<style scoped>\n",
              "    .dataframe tbody tr th:only-of-type {\n",
              "        vertical-align: middle;\n",
              "    }\n",
              "\n",
              "    .dataframe tbody tr th {\n",
              "        vertical-align: top;\n",
              "    }\n",
              "\n",
              "    .dataframe thead th {\n",
              "        text-align: right;\n",
              "    }\n",
              "</style>\n",
              "<table border=\"1\" class=\"dataframe\">\n",
              "  <thead>\n",
              "    <tr style=\"text-align: right;\">\n",
              "      <th></th>\n",
              "      <th>R</th>\n",
              "      <th>G</th>\n",
              "      <th>B</th>\n",
              "    </tr>\n",
              "  </thead>\n",
              "  <tbody>\n",
              "    <tr>\n",
              "      <th>count</th>\n",
              "      <td>2891.000000</td>\n",
              "      <td>2891.000000</td>\n",
              "      <td>2891.000000</td>\n",
              "    </tr>\n",
              "    <tr>\n",
              "      <th>mean</th>\n",
              "      <td>232.464195</td>\n",
              "      <td>218.861540</td>\n",
              "      <td>208.865011</td>\n",
              "    </tr>\n",
              "    <tr>\n",
              "      <th>std</th>\n",
              "      <td>9.855306</td>\n",
              "      <td>11.103307</td>\n",
              "      <td>11.918884</td>\n",
              "    </tr>\n",
              "    <tr>\n",
              "      <th>min</th>\n",
              "      <td>199.006982</td>\n",
              "      <td>183.729172</td>\n",
              "      <td>172.293234</td>\n",
              "    </tr>\n",
              "    <tr>\n",
              "      <th>25%</th>\n",
              "      <td>227.065644</td>\n",
              "      <td>213.011498</td>\n",
              "      <td>202.694089</td>\n",
              "    </tr>\n",
              "    <tr>\n",
              "      <th>50%</th>\n",
              "      <td>235.443285</td>\n",
              "      <td>221.982392</td>\n",
              "      <td>211.572828</td>\n",
              "    </tr>\n",
              "    <tr>\n",
              "      <th>75%</th>\n",
              "      <td>239.752485</td>\n",
              "      <td>226.694216</td>\n",
              "      <td>217.187071</td>\n",
              "    </tr>\n",
              "    <tr>\n",
              "      <th>max</th>\n",
              "      <td>251.007480</td>\n",
              "      <td>242.113988</td>\n",
              "      <td>236.218726</td>\n",
              "    </tr>\n",
              "  </tbody>\n",
              "</table>\n",
              "</div>"
            ],
            "text/plain": [
              "                 R            G            B\n",
              "count  2891.000000  2891.000000  2891.000000\n",
              "mean    232.464195   218.861540   208.865011\n",
              "std       9.855306    11.103307    11.918884\n",
              "min     199.006982   183.729172   172.293234\n",
              "25%     227.065644   213.011498   202.694089\n",
              "50%     235.443285   221.982392   211.572828\n",
              "75%     239.752485   226.694216   217.187071\n",
              "max     251.007480   242.113988   236.218726"
            ]
          },
          "metadata": {
            "tags": []
          },
          "execution_count": 40
        }
      ]
    },
    {
      "cell_type": "code",
      "metadata": {
        "id": "wrpWJdXcmtHn",
        "colab_type": "code",
        "colab": {
          "base_uri": "https://localhost:8080/",
          "height": 297
        },
        "outputId": "152e5bc1-41ce-4038-f981-4096e4cc4272"
      },
      "source": [
        "imgInfo_palmar_left_1200.pop('imgName')\n",
        "imgInfo_palmar_left_1200.astype('float').describe()"
      ],
      "execution_count": null,
      "outputs": [
        {
          "output_type": "execute_result",
          "data": {
            "text/html": [
              "<div>\n",
              "<style scoped>\n",
              "    .dataframe tbody tr th:only-of-type {\n",
              "        vertical-align: middle;\n",
              "    }\n",
              "\n",
              "    .dataframe tbody tr th {\n",
              "        vertical-align: top;\n",
              "    }\n",
              "\n",
              "    .dataframe thead th {\n",
              "        text-align: right;\n",
              "    }\n",
              "</style>\n",
              "<table border=\"1\" class=\"dataframe\">\n",
              "  <thead>\n",
              "    <tr style=\"text-align: right;\">\n",
              "      <th></th>\n",
              "      <th>R</th>\n",
              "      <th>G</th>\n",
              "      <th>B</th>\n",
              "    </tr>\n",
              "  </thead>\n",
              "  <tbody>\n",
              "    <tr>\n",
              "      <th>count</th>\n",
              "      <td>2577.000000</td>\n",
              "      <td>2577.000000</td>\n",
              "      <td>2577.000000</td>\n",
              "    </tr>\n",
              "    <tr>\n",
              "      <th>mean</th>\n",
              "      <td>238.344956</td>\n",
              "      <td>223.053639</td>\n",
              "      <td>215.978173</td>\n",
              "    </tr>\n",
              "    <tr>\n",
              "      <th>std</th>\n",
              "      <td>9.278220</td>\n",
              "      <td>10.637606</td>\n",
              "      <td>11.651486</td>\n",
              "    </tr>\n",
              "    <tr>\n",
              "      <th>min</th>\n",
              "      <td>211.098958</td>\n",
              "      <td>190.155483</td>\n",
              "      <td>181.283149</td>\n",
              "    </tr>\n",
              "    <tr>\n",
              "      <th>25%</th>\n",
              "      <td>233.697475</td>\n",
              "      <td>217.828824</td>\n",
              "      <td>210.193656</td>\n",
              "    </tr>\n",
              "    <tr>\n",
              "      <th>50%</th>\n",
              "      <td>241.564926</td>\n",
              "      <td>225.848621</td>\n",
              "      <td>218.748178</td>\n",
              "    </tr>\n",
              "    <tr>\n",
              "      <th>75%</th>\n",
              "      <td>245.280251</td>\n",
              "      <td>231.008474</td>\n",
              "      <td>224.764764</td>\n",
              "    </tr>\n",
              "    <tr>\n",
              "      <th>max</th>\n",
              "      <td>251.676697</td>\n",
              "      <td>241.584006</td>\n",
              "      <td>235.589247</td>\n",
              "    </tr>\n",
              "  </tbody>\n",
              "</table>\n",
              "</div>"
            ],
            "text/plain": [
              "                 R            G            B\n",
              "count  2577.000000  2577.000000  2577.000000\n",
              "mean    238.344956   223.053639   215.978173\n",
              "std       9.278220    10.637606    11.651486\n",
              "min     211.098958   190.155483   181.283149\n",
              "25%     233.697475   217.828824   210.193656\n",
              "50%     241.564926   225.848621   218.748178\n",
              "75%     245.280251   231.008474   224.764764\n",
              "max     251.676697   241.584006   235.589247"
            ]
          },
          "metadata": {
            "tags": []
          },
          "execution_count": 41
        }
      ]
    },
    {
      "cell_type": "code",
      "metadata": {
        "id": "6vbzK2B1mxqJ",
        "colab_type": "code",
        "colab": {
          "base_uri": "https://localhost:8080/",
          "height": 297
        },
        "outputId": "23f5675d-a3d8-4160-d47b-197badfcebd0"
      },
      "source": [
        "imgInfo_palmar_right_1200.pop('imgName')\n",
        "imgInfo_palmar_right_1200.astype('float').describe()"
      ],
      "execution_count": null,
      "outputs": [
        {
          "output_type": "execute_result",
          "data": {
            "text/html": [
              "<div>\n",
              "<style scoped>\n",
              "    .dataframe tbody tr th:only-of-type {\n",
              "        vertical-align: middle;\n",
              "    }\n",
              "\n",
              "    .dataframe tbody tr th {\n",
              "        vertical-align: top;\n",
              "    }\n",
              "\n",
              "    .dataframe thead th {\n",
              "        text-align: right;\n",
              "    }\n",
              "</style>\n",
              "<table border=\"1\" class=\"dataframe\">\n",
              "  <thead>\n",
              "    <tr style=\"text-align: right;\">\n",
              "      <th></th>\n",
              "      <th>R</th>\n",
              "      <th>G</th>\n",
              "      <th>B</th>\n",
              "    </tr>\n",
              "  </thead>\n",
              "  <tbody>\n",
              "    <tr>\n",
              "      <th>count</th>\n",
              "      <td>2577.000000</td>\n",
              "      <td>2577.000000</td>\n",
              "      <td>2577.000000</td>\n",
              "    </tr>\n",
              "    <tr>\n",
              "      <th>mean</th>\n",
              "      <td>240.118269</td>\n",
              "      <td>225.129178</td>\n",
              "      <td>217.849696</td>\n",
              "    </tr>\n",
              "    <tr>\n",
              "      <th>std</th>\n",
              "      <td>8.693747</td>\n",
              "      <td>10.087417</td>\n",
              "      <td>10.994682</td>\n",
              "    </tr>\n",
              "    <tr>\n",
              "      <th>min</th>\n",
              "      <td>208.401005</td>\n",
              "      <td>190.826787</td>\n",
              "      <td>178.541382</td>\n",
              "    </tr>\n",
              "    <tr>\n",
              "      <th>25%</th>\n",
              "      <td>234.906146</td>\n",
              "      <td>219.900668</td>\n",
              "      <td>211.825460</td>\n",
              "    </tr>\n",
              "    <tr>\n",
              "      <th>50%</th>\n",
              "      <td>243.420531</td>\n",
              "      <td>227.954242</td>\n",
              "      <td>221.058787</td>\n",
              "    </tr>\n",
              "    <tr>\n",
              "      <th>75%</th>\n",
              "      <td>246.763034</td>\n",
              "      <td>232.630190</td>\n",
              "      <td>226.174358</td>\n",
              "    </tr>\n",
              "    <tr>\n",
              "      <th>max</th>\n",
              "      <td>251.704276</td>\n",
              "      <td>241.584717</td>\n",
              "      <td>237.426650</td>\n",
              "    </tr>\n",
              "  </tbody>\n",
              "</table>\n",
              "</div>"
            ],
            "text/plain": [
              "                 R            G            B\n",
              "count  2577.000000  2577.000000  2577.000000\n",
              "mean    240.118269   225.129178   217.849696\n",
              "std       8.693747    10.087417    10.994682\n",
              "min     208.401005   190.826787   178.541382\n",
              "25%     234.906146   219.900668   211.825460\n",
              "50%     243.420531   227.954242   221.058787\n",
              "75%     246.763034   232.630190   226.174358\n",
              "max     251.704276   241.584717   237.426650"
            ]
          },
          "metadata": {
            "tags": []
          },
          "execution_count": 42
        }
      ]
    },
    {
      "cell_type": "code",
      "metadata": {
        "id": "iAG-bKzIm1EB",
        "colab_type": "code",
        "colab": {}
      },
      "source": [
        "imgInfo.dropna(inplace=True)\n",
        "imgInfo_dorsal_left_1200.dropna(inplace=True)\n",
        "imgInfo_dorsal_right_1200.dropna(inplace=True)\n",
        "imgInfo_palmar_left_1200.dropna(inplace=True)\n",
        "imgInfo_palmar_right_1200.dropna(inplace=True)"
      ],
      "execution_count": null,
      "outputs": []
    },
    {
      "cell_type": "code",
      "metadata": {
        "id": "cjGTiOzsnFD2",
        "colab_type": "code",
        "colab": {
          "base_uri": "https://localhost:8080/",
          "height": 229
        },
        "outputId": "afb9d1de-5639-47a8-d93d-c8f81fe3353a"
      },
      "source": [
        "names = ['R','G','B']\n",
        "plt.figure(figsize=(15, 3))\n",
        "\n",
        "plt.subplot(151)\n",
        "plt.boxplot([imgInfo.R,imgInfo.G,imgInfo.B], labels=names)\n",
        "plt.title('original')\n",
        "\n",
        "plt.subplot(152)\n",
        "plt.boxplot([imgInfo_dorsal_left_1200.R,imgInfo_dorsal_left_1200.G,imgInfo_dorsal_left_1200.B], labels=names)\n",
        "plt.title('dorsal left')\n",
        "\n",
        "plt.subplot(153)\n",
        "plt.boxplot([imgInfo_dorsal_right_1200.R,imgInfo_dorsal_right_1200.G,imgInfo_dorsal_right_1200.B], labels=names)\n",
        "plt.title('dorsal right')\n",
        "\n",
        "plt.subplot(154)\n",
        "plt.boxplot([imgInfo_palmar_left_1200.R,imgInfo_palmar_left_1200.G,imgInfo_palmar_left_1200.B], labels=names)\n",
        "plt.title('palmar left')\n",
        "\n",
        "plt.subplot(155)\n",
        "plt.boxplot([imgInfo_palmar_right_1200.R,imgInfo_palmar_right_1200.G,imgInfo_palmar_right_1200.B],labels=names)\n",
        "plt.title('palmar right')\n",
        "\n",
        "plt.suptitle('RGB Comparing')\n",
        "plt.show()"
      ],
      "execution_count": null,
      "outputs": [
        {
          "output_type": "display_data",
          "data": {
            "image/png": "[encoded data removed]",
            "text/plain": [
              "<Figure size 1080x216 with 5 Axes>"
            ]
          },
          "metadata": {
            "tags": [],
            "needs_background": "light"
          }
        }
      ]
    },
    {
      "cell_type": "code",
      "metadata": {
        "id": "zgR_EOclpUJD",
        "colab_type": "code",
        "colab": {}
      },
      "source": [
        ""
      ],
      "execution_count": null,
      "outputs": []
    }
  ]
}